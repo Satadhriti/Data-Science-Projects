{
 "cells": [
  {
   "cell_type": "markdown",
   "metadata": {},
   "source": [
    "## OPTIMIZATION CASE STUDY\n",
    "### BUSINESS ANALYTICS,DS C17 BATCH 2"
   ]
  },
  {
   "cell_type": "code",
   "execution_count": 1,
   "metadata": {},
   "outputs": [],
   "source": [
    "# Importing Libraries \n",
    "\n",
    "import pandas as pd\n",
    "import numpy as np\n",
    "import math\n",
    "from pyomo.environ import *"
   ]
  },
  {
   "cell_type": "code",
   "execution_count": 2,
   "metadata": {},
   "outputs": [],
   "source": [
    "from __future__ import division\n",
    "from pyomo.opt import SolverFactory"
   ]
  },
  {
   "cell_type": "code",
   "execution_count": 3,
   "metadata": {},
   "outputs": [],
   "source": [
    "# Reading the data from Excel workbook\n",
    "demanddist = pd.read_excel(\"Staffing+Data.xlsx\", sheet_name = \"DemandData\")\n",
    "StaffAv = pd.read_excel(\"Staffing+Data.xlsx\", sheet_name = \"StaffAvailability\")\n",
    "Cost = pd.read_excel(\"Staffing+Data.xlsx\", sheet_name = \"Cost\")\n",
    "transactioncost = pd.read_excel(\"Staffing+Data.xlsx\", sheet_name = \"ServiceRate\")"
   ]
  },
  {
   "cell_type": "markdown",
   "metadata": {},
   "source": [
    "## Data pre-processing "
   ]
  },
  {
   "cell_type": "code",
   "execution_count": 4,
   "metadata": {},
   "outputs": [],
   "source": [
    "# Create the required Python data structures for indexes and parameters\n",
    "# Demand Data\n",
    "demand = demanddist.set_index(['State','Month'])['Demand'].to_dict()\n",
    "\n",
    "# FTE Salary\n",
    "FTE_Salary = Cost.set_index(['State','Month'])['MonthlySalary'].to_dict()\n",
    "\n",
    "# Unit Outsourcing Cost\n",
    "UnitOutSourceCost = Cost.set_index(['State','Month'])['UnitOutSourceCost'].to_dict()\n",
    "\n",
    "\n",
    "#No.of applications when an FTE is working full-time\n",
    "FTE_AppServeRate = transactioncost.iloc[0,0]\n",
    "\n",
    "# Staff Availability for serving the insurance applications\n",
    "StaffAv_LB = StaffAv.set_index(['State','Month'])['LB'].to_dict()\n",
    "StaffAv_UB = StaffAv.set_index(['State','Month'])['UB'].to_dict()\n",
    "StaffAvPer = StaffAv.set_index(['State','Month'])['StaffAvPer'].to_dict()\n",
    "\n",
    "#Index\n",
    "BankLoc = Cost['State'].unique()\n",
    "Month = Cost['Month'].unique()"
   ]
  },
  {
   "cell_type": "code",
   "execution_count": 5,
   "metadata": {},
   "outputs": [],
   "source": [
    "Bankloc=list(BankLoc)\n",
    "Month= list(Month)"
   ]
  },
  {
   "cell_type": "markdown",
   "metadata": {},
   "source": [
    "# Question 1\n",
    "\n",
    "The company wants to know the optimised staffing recommendations for the business case described. \n",
    "Write the mathematical model for the deterministic optimisation problem. Define and explain your decision variables, objective function and the constraint. (Hint: Use months of the year as the model timeline).\n",
    "\n"
   ]
  },
  {
   "cell_type": "markdown",
   "metadata": {},
   "source": [
    "**Note:** You can write the mathematical formulation directly in your report."
   ]
  },
  {
   "cell_type": "markdown",
   "metadata": {},
   "source": [
    "# Question 2\n",
    "\n",
    "Code the problem is Python and use any optimization package to solve it. Add comments to your code to explain each step. "
   ]
  },
  {
   "cell_type": "markdown",
   "metadata": {},
   "source": [
    "#### Expected output:\n",
    "\n",
    "Create a data frame containing the number of outsourced applications  and the number of FTEs for each state-month combination. You can choose to have extra columns like staff availability, demand etc. in your dataframe apart from the ones mentioned earlier. "
   ]
  },
  {
   "cell_type": "code",
   "execution_count": 6,
   "metadata": {},
   "outputs": [],
   "source": [
    "# Creating a model instance\n",
    "model = ConcreteModel()"
   ]
  },
  {
   "cell_type": "code",
   "execution_count": 7,
   "metadata": {},
   "outputs": [],
   "source": [
    "# Define Pyomo sets and Parameters\n",
    "model.BankLoc = Set(initialize=BankLoc)\n",
    "model.Month = Set(initialize=Month)\n",
    "#parameter\n",
    "model.demand = Param(model.BankLoc, model.Month, initialize = demand)"
   ]
  },
  {
   "cell_type": "code",
   "execution_count": 8,
   "metadata": {},
   "outputs": [],
   "source": [
    "# Decision variables\n",
    "model.x = Var(BankLoc, Month, within=NonNegativeReals)\n",
    "model.y = Var(BankLoc, Month, within=NonNegativeIntegers)"
   ]
  },
  {
   "cell_type": "markdown",
   "metadata": {},
   "source": [
    "### We have two decision variables here: one(x) for the FTE and the other(y) for the number of outsourced applications. In all the questions from here except the last one(question 6), we will define these same set of decision variables. "
   ]
  },
  {
   "cell_type": "code",
   "execution_count": 9,
   "metadata": {},
   "outputs": [],
   "source": [
    "# Constraints\n",
    "\n",
    "## Demand Constraint\n",
    "        \n",
    "def demand_constraint(model,b,m):\n",
    "    return((model.x[b,m]*StaffAvPer[b,m]*40 + model.y[b,m]) == demand[b,m])\n",
    "\n",
    "model.dmnd = Constraint(BankLoc, Month, rule=demand_constraint)\n",
    "\n",
    "## Regulatory Restriction\n",
    "def outsource_constraint_a(model, b, m):\n",
    "    return(model.y[b,m] <= 0.3*demand[b,m])\n",
    "\n",
    "model.outsrc_a = Constraint(BankLoc[0], Month, rule=outsource_constraint_a)\n",
    "\n",
    "def outsource_constraint_b(model, b, m):\n",
    "    return(model.y[b,m] <= 0.4*demand[b,m])\n",
    "\n",
    "model.outsrc_b = Constraint(BankLoc[1], Month, rule=outsource_constraint_b)"
   ]
  },
  {
   "cell_type": "markdown",
   "metadata": {},
   "source": [
    "### Talking about the constraints, we have two constraints here: the demand constraint which says that the demand per state per month must be met nad the second one is the regulatory constraint which says that States A and B cannot outsource more than 30% and 40% of the applications respectively.The demand constraint will remain same throughout this exercise."
   ]
  },
  {
   "cell_type": "code",
   "execution_count": 10,
   "metadata": {},
   "outputs": [],
   "source": [
    "# Objective function\n",
    "\n",
    "model.value = Objective(expr = sum(sum(FTE_Salary[b,m]*model.x[b,m] + UnitOutSourceCost[b,m]*model.y[b,m]\n",
    "                                       for m in Month)for b in BankLoc), sense= minimize)"
   ]
  },
  {
   "cell_type": "markdown",
   "metadata": {},
   "source": [
    "### Out objective is to minimize the cost of approving applications by distributing the right number of applications between the FTE's and the vendors while meeting the demand for each state for each month which is covered in the constraint. Our objective function will remain almost same throughout except the case where there will be a 20% increase in outsourcing cost."
   ]
  },
  {
   "cell_type": "code",
   "execution_count": 11,
   "metadata": {},
   "outputs": [
    {
     "name": "stdout",
     "output_type": "stream",
     "text": [
      "# ==========================================================\n",
      "# = Solver Results                                         =\n",
      "# ==========================================================\n",
      "# ----------------------------------------------------------\n",
      "#   Problem Information\n",
      "# ----------------------------------------------------------\n",
      "Problem: \n",
      "- Name: unknown\n",
      "  Lower bound: 17962336.4487699\n",
      "  Upper bound: 17962336.4487699\n",
      "  Number of objectives: 1\n",
      "  Number of constraints: 61\n",
      "  Number of variables: 73\n",
      "  Number of nonzeros: 97\n",
      "  Sense: minimize\n",
      "# ----------------------------------------------------------\n",
      "#   Solver Information\n",
      "# ----------------------------------------------------------\n",
      "Solver: \n",
      "- Status: ok\n",
      "  Termination condition: optimal\n",
      "  Statistics: \n",
      "    Branch and bound: \n",
      "      Number of bounded subproblems: 0\n",
      "      Number of created subproblems: 0\n",
      "  Error rc: 0\n",
      "  Time: 0.1636500358581543\n",
      "# ----------------------------------------------------------\n",
      "#   Solution Information\n",
      "# ----------------------------------------------------------\n",
      "Solution: \n",
      "- number of solutions: 0\n",
      "  number of solutions displayed: 0\n"
     ]
    }
   ],
   "source": [
    "# Invoking the solver\n",
    "result1 = SolverFactory('glpk').solve(model)\n",
    "result1.write()"
   ]
  },
  {
   "cell_type": "code",
   "execution_count": 12,
   "metadata": {},
   "outputs": [
    {
     "name": "stdout",
     "output_type": "stream",
     "text": [
      "18 Set Declarations\n",
      "    BankLoc : Size=1, Index=None, Ordered=Insertion\n",
      "        Key  : Dimen : Domain : Size : Members\n",
      "        None :     1 :    Any :    3 : {'A', 'B', 'C'}\n",
      "    Month : Size=1, Index=None, Ordered=Insertion\n",
      "        Key  : Dimen : Domain : Size : Members\n",
      "        None :     1 :    Any :   12 : {'Jan', 'Feb', 'Mar', 'Apr', 'May', 'Jun', 'Jul', 'Aug', 'Sep', 'Oct', 'Nov', 'Dec'}\n",
      "    demand_index : Size=1, Index=None, Ordered=True\n",
      "        Key  : Dimen : Domain        : Size : Members\n",
      "        None :     2 : BankLoc*Month :   36 : {('A', 'Jan'), ('A', 'Feb'), ('A', 'Mar'), ('A', 'Apr'), ('A', 'May'), ('A', 'Jun'), ('A', 'Jul'), ('A', 'Aug'), ('A', 'Sep'), ('A', 'Oct'), ('A', 'Nov'), ('A', 'Dec'), ('B', 'Jan'), ('B', 'Feb'), ('B', 'Mar'), ('B', 'Apr'), ('B', 'May'), ('B', 'Jun'), ('B', 'Jul'), ('B', 'Aug'), ('B', 'Sep'), ('B', 'Oct'), ('B', 'Nov'), ('B', 'Dec'), ('C', 'Jan'), ('C', 'Feb'), ('C', 'Mar'), ('C', 'Apr'), ('C', 'May'), ('C', 'Jun'), ('C', 'Jul'), ('C', 'Aug'), ('C', 'Sep'), ('C', 'Oct'), ('C', 'Nov'), ('C', 'Dec')}\n",
      "    dmnd_index : Size=1, Index=None, Ordered=False\n",
      "        Key  : Dimen : Domain                    : Size : Members\n",
      "        None :     2 : dmnd_index_0*dmnd_index_1 :   36 : {('A', 'Apr'), ('A', 'Aug'), ('A', 'Dec'), ('A', 'Feb'), ('A', 'Jan'), ('A', 'Jul'), ('A', 'Jun'), ('A', 'Mar'), ('A', 'May'), ('A', 'Nov'), ('A', 'Oct'), ('A', 'Sep'), ('B', 'Apr'), ('B', 'Aug'), ('B', 'Dec'), ('B', 'Feb'), ('B', 'Jan'), ('B', 'Jul'), ('B', 'Jun'), ('B', 'Mar'), ('B', 'May'), ('B', 'Nov'), ('B', 'Oct'), ('B', 'Sep'), ('C', 'Apr'), ('C', 'Aug'), ('C', 'Dec'), ('C', 'Feb'), ('C', 'Jan'), ('C', 'Jul'), ('C', 'Jun'), ('C', 'Mar'), ('C', 'May'), ('C', 'Nov'), ('C', 'Oct'), ('C', 'Sep')}\n",
      "    dmnd_index_0 : Size=1, Index=None, Ordered=False\n",
      "        Key  : Dimen : Domain : Size : Members\n",
      "        None :     1 :    Any :    3 : {'A', 'B', 'C'}\n",
      "    dmnd_index_1 : Size=1, Index=None, Ordered=Insertion\n",
      "        Key  : Dimen : Domain : Size : Members\n",
      "        None :     1 :    Any :   12 : {'Jan', 'Feb', 'Mar', 'Apr', 'May', 'Jun', 'Jul', 'Aug', 'Sep', 'Oct', 'Nov', 'Dec'}\n",
      "    outsrc_a_index : Size=1, Index=None, Ordered=False\n",
      "        Key  : Dimen : Domain                            : Size : Members\n",
      "        None :     2 : outsrc_a_index_0*outsrc_a_index_1 :   12 : {('A', 'Apr'), ('A', 'Aug'), ('A', 'Dec'), ('A', 'Feb'), ('A', 'Jan'), ('A', 'Jul'), ('A', 'Jun'), ('A', 'Mar'), ('A', 'May'), ('A', 'Nov'), ('A', 'Oct'), ('A', 'Sep')}\n",
      "    outsrc_a_index_0 : Size=1, Index=None, Ordered=False\n",
      "        Key  : Dimen : Domain : Size : Members\n",
      "        None :     1 :    Any :    1 :  {'A',}\n",
      "    outsrc_a_index_1 : Size=1, Index=None, Ordered=Insertion\n",
      "        Key  : Dimen : Domain : Size : Members\n",
      "        None :     1 :    Any :   12 : {'Jan', 'Feb', 'Mar', 'Apr', 'May', 'Jun', 'Jul', 'Aug', 'Sep', 'Oct', 'Nov', 'Dec'}\n",
      "    outsrc_b_index : Size=1, Index=None, Ordered=False\n",
      "        Key  : Dimen : Domain                            : Size : Members\n",
      "        None :     2 : outsrc_b_index_0*outsrc_b_index_1 :   12 : {('B', 'Apr'), ('B', 'Aug'), ('B', 'Dec'), ('B', 'Feb'), ('B', 'Jan'), ('B', 'Jul'), ('B', 'Jun'), ('B', 'Mar'), ('B', 'May'), ('B', 'Nov'), ('B', 'Oct'), ('B', 'Sep')}\n",
      "    outsrc_b_index_0 : Size=1, Index=None, Ordered=False\n",
      "        Key  : Dimen : Domain : Size : Members\n",
      "        None :     1 :    Any :    1 :  {'B',}\n",
      "    outsrc_b_index_1 : Size=1, Index=None, Ordered=Insertion\n",
      "        Key  : Dimen : Domain : Size : Members\n",
      "        None :     1 :    Any :   12 : {'Jan', 'Feb', 'Mar', 'Apr', 'May', 'Jun', 'Jul', 'Aug', 'Sep', 'Oct', 'Nov', 'Dec'}\n",
      "    x_index : Size=1, Index=None, Ordered=False\n",
      "        Key  : Dimen : Domain              : Size : Members\n",
      "        None :     2 : x_index_0*x_index_1 :   36 : {('A', 'Apr'), ('A', 'Aug'), ('A', 'Dec'), ('A', 'Feb'), ('A', 'Jan'), ('A', 'Jul'), ('A', 'Jun'), ('A', 'Mar'), ('A', 'May'), ('A', 'Nov'), ('A', 'Oct'), ('A', 'Sep'), ('B', 'Apr'), ('B', 'Aug'), ('B', 'Dec'), ('B', 'Feb'), ('B', 'Jan'), ('B', 'Jul'), ('B', 'Jun'), ('B', 'Mar'), ('B', 'May'), ('B', 'Nov'), ('B', 'Oct'), ('B', 'Sep'), ('C', 'Apr'), ('C', 'Aug'), ('C', 'Dec'), ('C', 'Feb'), ('C', 'Jan'), ('C', 'Jul'), ('C', 'Jun'), ('C', 'Mar'), ('C', 'May'), ('C', 'Nov'), ('C', 'Oct'), ('C', 'Sep')}\n",
      "    x_index_0 : Size=1, Index=None, Ordered=False\n",
      "        Key  : Dimen : Domain : Size : Members\n",
      "        None :     1 :    Any :    3 : {'A', 'B', 'C'}\n",
      "    x_index_1 : Size=1, Index=None, Ordered=Insertion\n",
      "        Key  : Dimen : Domain : Size : Members\n",
      "        None :     1 :    Any :   12 : {'Jan', 'Feb', 'Mar', 'Apr', 'May', 'Jun', 'Jul', 'Aug', 'Sep', 'Oct', 'Nov', 'Dec'}\n",
      "    y_index : Size=1, Index=None, Ordered=False\n",
      "        Key  : Dimen : Domain              : Size : Members\n",
      "        None :     2 : y_index_0*y_index_1 :   36 : {('A', 'Apr'), ('A', 'Aug'), ('A', 'Dec'), ('A', 'Feb'), ('A', 'Jan'), ('A', 'Jul'), ('A', 'Jun'), ('A', 'Mar'), ('A', 'May'), ('A', 'Nov'), ('A', 'Oct'), ('A', 'Sep'), ('B', 'Apr'), ('B', 'Aug'), ('B', 'Dec'), ('B', 'Feb'), ('B', 'Jan'), ('B', 'Jul'), ('B', 'Jun'), ('B', 'Mar'), ('B', 'May'), ('B', 'Nov'), ('B', 'Oct'), ('B', 'Sep'), ('C', 'Apr'), ('C', 'Aug'), ('C', 'Dec'), ('C', 'Feb'), ('C', 'Jan'), ('C', 'Jul'), ('C', 'Jun'), ('C', 'Mar'), ('C', 'May'), ('C', 'Nov'), ('C', 'Oct'), ('C', 'Sep')}\n",
      "    y_index_0 : Size=1, Index=None, Ordered=False\n",
      "        Key  : Dimen : Domain : Size : Members\n",
      "        None :     1 :    Any :    3 : {'A', 'B', 'C'}\n",
      "    y_index_1 : Size=1, Index=None, Ordered=Insertion\n",
      "        Key  : Dimen : Domain : Size : Members\n",
      "        None :     1 :    Any :   12 : {'Jan', 'Feb', 'Mar', 'Apr', 'May', 'Jun', 'Jul', 'Aug', 'Sep', 'Oct', 'Nov', 'Dec'}\n",
      "\n",
      "1 Param Declarations\n",
      "    demand : Size=36, Index=demand_index, Domain=Any, Default=None, Mutable=False\n",
      "        Key          : Value\n",
      "        ('A', 'Apr') :  2297\n",
      "        ('A', 'Aug') :  3371\n",
      "        ('A', 'Dec') :  5183\n",
      "        ('A', 'Feb') :  4878\n",
      "        ('A', 'Jan') :  5240\n",
      "        ('A', 'Jul') :  5334\n",
      "        ('A', 'Jun') :  2275\n",
      "        ('A', 'Mar') :  5942\n",
      "        ('A', 'May') :  1992\n",
      "        ('A', 'Nov') :  4284\n",
      "        ('A', 'Oct') :  3529\n",
      "        ('A', 'Sep') :  3759\n",
      "        ('B', 'Apr') :  2338\n",
      "        ('B', 'Aug') :  2620\n",
      "        ('B', 'Dec') :  4227\n",
      "        ('B', 'Feb') :  2628\n",
      "        ('B', 'Jan') :  4927\n",
      "        ('B', 'Jul') :  4271\n",
      "        ('B', 'Jun') :  3147\n",
      "        ('B', 'Mar') :  2974\n",
      "        ('B', 'May') :  4020\n",
      "        ('B', 'Nov') :  3137\n",
      "        ('B', 'Oct') :  4155\n",
      "        ('B', 'Sep') :  4517\n",
      "        ('C', 'Apr') :  2261\n",
      "        ('C', 'Aug') :  2496\n",
      "        ('C', 'Dec') :  1998\n",
      "        ('C', 'Feb') :  1967\n",
      "        ('C', 'Jan') :  1162\n",
      "        ('C', 'Jul') :  2489\n",
      "        ('C', 'Jun') :  1642\n",
      "        ('C', 'Mar') :  1898\n",
      "        ('C', 'May') :  2030\n",
      "        ('C', 'Nov') :   963\n",
      "        ('C', 'Oct') :  2421\n",
      "        ('C', 'Sep') :   922\n",
      "\n",
      "2 Var Declarations\n",
      "    x : Size=36, Index=x_index\n",
      "        Key          : Lower : Value            : Upper : Fixed : Stale : Domain\n",
      "        ('A', 'Apr') :     0 :         71.78125 :  None : False : False : NonNegativeReals\n",
      "        ('A', 'Aug') :     0 : 110.888157894737 :  None : False : False : NonNegativeReals\n",
      "        ('A', 'Dec') :     0 : 139.576923076923 :  None : False : False : NonNegativeReals\n",
      "        ('A', 'Feb') :     0 : 160.460526315789 :  None : False : False : NonNegativeReals\n",
      "        ('A', 'Jan') :     0 : 161.728395061728 :  None : False : False : NonNegativeReals\n",
      "        ('A', 'Jul') :     0 : 137.279411764706 :  None : False : False : NonNegativeReals\n",
      "        ('A', 'Jun') :     0 : 77.9109589041096 :  None : False : False : NonNegativeReals\n",
      "        ('A', 'Mar') :     0 : 198.066666666667 :  None : False : False : NonNegativeReals\n",
      "        ('A', 'May') :     0 : 63.8461538461538 :  None : False : False : NonNegativeReals\n",
      "        ('A', 'Nov') :     0 : 110.257352941176 :  None : False : False : NonNegativeReals\n",
      "        ('A', 'Oct') :     0 : 120.856164383562 :  None : False : False : NonNegativeReals\n",
      "        ('A', 'Sep') :     0 : 116.018518518519 :  None : False : False : NonNegativeReals\n",
      "        ('B', 'Apr') :     0 :          73.0625 :  None : False : False : NonNegativeReals\n",
      "        ('B', 'Aug') :     0 : 51.7105263157895 :  None : False : False : NonNegativeReals\n",
      "        ('B', 'Dec') :     0 : 97.5769230769231 :  None : False : False : NonNegativeReals\n",
      "        ('B', 'Feb') :     0 :           51.875 :  None : False : False : NonNegativeReals\n",
      "        ('B', 'Jan') :     0 : 152.067901234568 :  None : False : False : NonNegativeReals\n",
      "        ('B', 'Jul') :     0 : 94.2279411764706 :  None : False : False : NonNegativeReals\n",
      "        ('B', 'Jun') :     0 : 64.6917808219178 :  None : False : False : NonNegativeReals\n",
      "        ('B', 'Mar') :     0 :             59.5 :  None : False : False : NonNegativeReals\n",
      "        ('B', 'May') :     0 : 128.846153846154 :  None : False : False : NonNegativeReals\n",
      "        ('B', 'Nov') :     0 : 69.2279411764706 :  None : False : False : NonNegativeReals\n",
      "        ('B', 'Oct') :     0 : 85.3767123287671 :  None : False : False : NonNegativeReals\n",
      "        ('B', 'Sep') :     0 : 139.413580246914 :  None : False : False : NonNegativeReals\n",
      "        ('C', 'Apr') :     0 :         70.65625 :  None : False : False : NonNegativeReals\n",
      "        ('C', 'Aug') :     0 : 82.1052631578947 :  None : False : False : NonNegativeReals\n",
      "        ('C', 'Dec') :     0 :              0.0 :  None : False : False : NonNegativeReals\n",
      "        ('C', 'Feb') :     0 : 64.7039473684211 :  None : False : False : NonNegativeReals\n",
      "        ('C', 'Jan') :     0 : 35.8641975308642 :  None : False : False : NonNegativeReals\n",
      "        ('C', 'Jul') :     0 :              0.0 :  None : False : False : NonNegativeReals\n",
      "        ('C', 'Jun') :     0 : 56.2328767123288 :  None : False : False : NonNegativeReals\n",
      "        ('C', 'Mar') :     0 : 63.2666666666667 :  None : False : False : NonNegativeReals\n",
      "        ('C', 'May') :     0 : 65.0641025641026 :  None : False : False : NonNegativeReals\n",
      "        ('C', 'Nov') :     0 :              0.0 :  None : False : False : NonNegativeReals\n",
      "        ('C', 'Oct') :     0 : 82.9109589041096 :  None : False : False : NonNegativeReals\n",
      "        ('C', 'Sep') :     0 : 28.4567901234568 :  None : False : False : NonNegativeReals\n",
      "    y : Size=36, Index=y_index\n",
      "        Key          : Lower : Value  : Upper : Fixed : Stale : Domain\n",
      "        ('A', 'Apr') :     0 :    0.0 :  None : False : False : NonNegativeIntegers\n",
      "        ('A', 'Aug') :     0 :    0.0 :  None : False : False : NonNegativeIntegers\n",
      "        ('A', 'Dec') :     0 : 1554.0 :  None : False : False : NonNegativeIntegers\n",
      "        ('A', 'Feb') :     0 :    0.0 :  None : False : False : NonNegativeIntegers\n",
      "        ('A', 'Jan') :     0 :    0.0 :  None : False : False : NonNegativeIntegers\n",
      "        ('A', 'Jul') :     0 : 1600.0 :  None : False : False : NonNegativeIntegers\n",
      "        ('A', 'Jun') :     0 :    0.0 :  None : False : False : NonNegativeIntegers\n",
      "        ('A', 'Mar') :     0 :    0.0 :  None : False : False : NonNegativeIntegers\n",
      "        ('A', 'May') :     0 :    0.0 :  None : False : False : NonNegativeIntegers\n",
      "        ('A', 'Nov') :     0 : 1285.0 :  None : False : False : NonNegativeIntegers\n",
      "        ('A', 'Oct') :     0 :    0.0 :  None : False : False : NonNegativeIntegers\n",
      "        ('A', 'Sep') :     0 :    0.0 :  None : False : False : NonNegativeIntegers\n",
      "        ('B', 'Apr') :     0 :    0.0 :  None : False : False : NonNegativeIntegers\n",
      "        ('B', 'Aug') :     0 : 1048.0 :  None : False : False : NonNegativeIntegers\n",
      "        ('B', 'Dec') :     0 : 1690.0 :  None : False : False : NonNegativeIntegers\n",
      "        ('B', 'Feb') :     0 : 1051.0 :  None : False : False : NonNegativeIntegers\n",
      "        ('B', 'Jan') :     0 :    0.0 :  None : False : False : NonNegativeIntegers\n",
      "        ('B', 'Jul') :     0 : 1708.0 :  None : False : False : NonNegativeIntegers\n",
      "        ('B', 'Jun') :     0 : 1258.0 :  None : False : False : NonNegativeIntegers\n",
      "        ('B', 'Mar') :     0 : 1189.0 :  None : False : False : NonNegativeIntegers\n",
      "        ('B', 'May') :     0 :    0.0 :  None : False : False : NonNegativeIntegers\n",
      "        ('B', 'Nov') :     0 : 1254.0 :  None : False : False : NonNegativeIntegers\n",
      "        ('B', 'Oct') :     0 : 1662.0 :  None : False : False : NonNegativeIntegers\n",
      "        ('B', 'Sep') :     0 :    0.0 :  None : False : False : NonNegativeIntegers\n",
      "        ('C', 'Apr') :     0 :    0.0 :  None : False : False : NonNegativeIntegers\n",
      "        ('C', 'Aug') :     0 :    0.0 :  None : False : False : NonNegativeIntegers\n",
      "        ('C', 'Dec') :     0 : 1998.0 :  None : False : False : NonNegativeIntegers\n",
      "        ('C', 'Feb') :     0 :    0.0 :  None : False : False : NonNegativeIntegers\n",
      "        ('C', 'Jan') :     0 :    0.0 :  None : False : False : NonNegativeIntegers\n",
      "        ('C', 'Jul') :     0 : 2489.0 :  None : False : False : NonNegativeIntegers\n",
      "        ('C', 'Jun') :     0 :    0.0 :  None : False : False : NonNegativeIntegers\n",
      "        ('C', 'Mar') :     0 :    0.0 :  None : False : False : NonNegativeIntegers\n",
      "        ('C', 'May') :     0 :    0.0 :  None : False : False : NonNegativeIntegers\n",
      "        ('C', 'Nov') :     0 :  963.0 :  None : False : False : NonNegativeIntegers\n",
      "        ('C', 'Oct') :     0 :    0.0 :  None : False : False : NonNegativeIntegers\n",
      "        ('C', 'Sep') :     0 :    0.0 :  None : False : False : NonNegativeIntegers\n",
      "\n",
      "1 Objective Declarations\n",
      "    value : Size=1, Index=None, Active=True\n",
      "        Key  : Active : Sense    : Expression\n",
      "        None :   True : minimize : 5000.0*x[A,Jan] + 180*y[A,Jan] + 5000.0*x[A,Feb] + 180*y[A,Feb] + 5000.0*x[A,Mar] + 180*y[A,Mar] + 5000.0*x[A,Apr] + 180*y[A,Apr] + 5000.0*x[A,May] + 180*y[A,May] + 5000.0*x[A,Jun] + 180*y[A,Jun] + 5000.0*x[A,Jul] + 180*y[A,Jul] + 5000.0*x[A,Aug] + 180*y[A,Aug] + 5000.0*x[A,Sep] + 180*y[A,Sep] + 5000.0*x[A,Oct] + 180*y[A,Oct] + 5000.0*x[A,Nov] + 180*y[A,Nov] + 5000.0*x[A,Dec] + 180*y[A,Dec] + 4583.333333333333*x[B,Jan] + 150*y[B,Jan] + 4583.333333333333*x[B,Feb] + 150*y[B,Feb] + 4583.333333333333*x[B,Mar] + 150*y[B,Mar] + 4583.333333333333*x[B,Apr] + 150*y[B,Apr] + 4583.333333333333*x[B,May] + 150*y[B,May] + 4583.333333333333*x[B,Jun] + 150*y[B,Jun] + 4583.333333333333*x[B,Jul] + 150*y[B,Jul] + 4583.333333333333*x[B,Aug] + 150*y[B,Aug] + 4583.333333333333*x[B,Sep] + 150*y[B,Sep] + 4583.333333333333*x[B,Oct] + 150*y[B,Oct] + 4583.333333333333*x[B,Nov] + 150*y[B,Nov] + 4583.333333333333*x[B,Dec] + 150*y[B,Dec] + 4416.666666666667*x[C,Jan] + 160*y[C,Jan] + 4416.666666666667*x[C,Feb] + 160*y[C,Feb] + 4416.666666666667*x[C,Mar] + 160*y[C,Mar] + 4416.666666666667*x[C,Apr] + 160*y[C,Apr] + 4416.666666666667*x[C,May] + 160*y[C,May] + 4416.666666666667*x[C,Jun] + 160*y[C,Jun] + 4416.666666666667*x[C,Jul] + 160*y[C,Jul] + 4416.666666666667*x[C,Aug] + 160*y[C,Aug] + 4416.666666666667*x[C,Sep] + 160*y[C,Sep] + 4416.666666666667*x[C,Oct] + 160*y[C,Oct] + 4416.666666666667*x[C,Nov] + 160*y[C,Nov] + 4416.666666666667*x[C,Dec] + 160*y[C,Dec]\n",
      "\n",
      "3 Constraint Declarations\n",
      "    dmnd : Size=36, Index=dmnd_index, Active=True\n",
      "        Key          : Lower  : Body                                   : Upper  : Active\n",
      "        ('A', 'Apr') : 2297.0 :               32.0*x[A,Apr] + y[A,Apr] : 2297.0 :   True\n",
      "        ('A', 'Aug') : 3371.0 :               30.4*x[A,Aug] + y[A,Aug] : 3371.0 :   True\n",
      "        ('A', 'Dec') : 5183.0 :               26.0*x[A,Dec] + y[A,Dec] : 5183.0 :   True\n",
      "        ('A', 'Feb') : 4878.0 :               30.4*x[A,Feb] + y[A,Feb] : 4878.0 :   True\n",
      "        ('A', 'Jan') : 5240.0 : 32.400000000000006*x[A,Jan] + y[A,Jan] : 5240.0 :   True\n",
      "        ('A', 'Jul') : 5334.0 : 27.200000000000003*x[A,Jul] + y[A,Jul] : 5334.0 :   True\n",
      "        ('A', 'Jun') : 2275.0 :               29.2*x[A,Jun] + y[A,Jun] : 2275.0 :   True\n",
      "        ('A', 'Mar') : 5942.0 :               30.0*x[A,Mar] + y[A,Mar] : 5942.0 :   True\n",
      "        ('A', 'May') : 1992.0 : 31.200000000000003*x[A,May] + y[A,May] : 1992.0 :   True\n",
      "        ('A', 'Nov') : 4284.0 : 27.200000000000003*x[A,Nov] + y[A,Nov] : 4284.0 :   True\n",
      "        ('A', 'Oct') : 3529.0 :               29.2*x[A,Oct] + y[A,Oct] : 3529.0 :   True\n",
      "        ('A', 'Sep') : 3759.0 : 32.400000000000006*x[A,Sep] + y[A,Sep] : 3759.0 :   True\n",
      "        ('B', 'Apr') : 2338.0 :               32.0*x[B,Apr] + y[B,Apr] : 2338.0 :   True\n",
      "        ('B', 'Aug') : 2620.0 :               30.4*x[B,Aug] + y[B,Aug] : 2620.0 :   True\n",
      "        ('B', 'Dec') : 4227.0 :               26.0*x[B,Dec] + y[B,Dec] : 4227.0 :   True\n",
      "        ('B', 'Feb') : 2628.0 :               30.4*x[B,Feb] + y[B,Feb] : 2628.0 :   True\n",
      "        ('B', 'Jan') : 4927.0 : 32.400000000000006*x[B,Jan] + y[B,Jan] : 4927.0 :   True\n",
      "        ('B', 'Jul') : 4271.0 : 27.200000000000003*x[B,Jul] + y[B,Jul] : 4271.0 :   True\n",
      "        ('B', 'Jun') : 3147.0 :               29.2*x[B,Jun] + y[B,Jun] : 3147.0 :   True\n",
      "        ('B', 'Mar') : 2974.0 :               30.0*x[B,Mar] + y[B,Mar] : 2974.0 :   True\n",
      "        ('B', 'May') : 4020.0 : 31.200000000000003*x[B,May] + y[B,May] : 4020.0 :   True\n",
      "        ('B', 'Nov') : 3137.0 : 27.200000000000003*x[B,Nov] + y[B,Nov] : 3137.0 :   True\n",
      "        ('B', 'Oct') : 4155.0 :               29.2*x[B,Oct] + y[B,Oct] : 4155.0 :   True\n",
      "        ('B', 'Sep') : 4517.0 : 32.400000000000006*x[B,Sep] + y[B,Sep] : 4517.0 :   True\n",
      "        ('C', 'Apr') : 2261.0 :               32.0*x[C,Apr] + y[C,Apr] : 2261.0 :   True\n",
      "        ('C', 'Aug') : 2496.0 :               30.4*x[C,Aug] + y[C,Aug] : 2496.0 :   True\n",
      "        ('C', 'Dec') : 1998.0 :               26.0*x[C,Dec] + y[C,Dec] : 1998.0 :   True\n",
      "        ('C', 'Feb') : 1967.0 :               30.4*x[C,Feb] + y[C,Feb] : 1967.0 :   True\n",
      "        ('C', 'Jan') : 1162.0 : 32.400000000000006*x[C,Jan] + y[C,Jan] : 1162.0 :   True\n",
      "        ('C', 'Jul') : 2489.0 : 27.200000000000003*x[C,Jul] + y[C,Jul] : 2489.0 :   True\n",
      "        ('C', 'Jun') : 1642.0 :               29.2*x[C,Jun] + y[C,Jun] : 1642.0 :   True\n",
      "        ('C', 'Mar') : 1898.0 :               30.0*x[C,Mar] + y[C,Mar] : 1898.0 :   True\n",
      "        ('C', 'May') : 2030.0 : 31.200000000000003*x[C,May] + y[C,May] : 2030.0 :   True\n",
      "        ('C', 'Nov') :  963.0 : 27.200000000000003*x[C,Nov] + y[C,Nov] :  963.0 :   True\n",
      "        ('C', 'Oct') : 2421.0 :               29.2*x[C,Oct] + y[C,Oct] : 2421.0 :   True\n",
      "        ('C', 'Sep') :  922.0 : 32.400000000000006*x[C,Sep] + y[C,Sep] :  922.0 :   True\n",
      "    outsrc_a : Size=12, Index=outsrc_a_index, Active=True\n",
      "        Key          : Lower : Body     : Upper              : Active\n",
      "        ('A', 'Apr') :  -Inf : y[A,Apr] :              689.1 :   True\n",
      "        ('A', 'Aug') :  -Inf : y[A,Aug] :             1011.3 :   True\n",
      "        ('A', 'Dec') :  -Inf : y[A,Dec] : 1554.8999999999999 :   True\n",
      "        ('A', 'Feb') :  -Inf : y[A,Feb] : 1463.3999999999999 :   True\n",
      "        ('A', 'Jan') :  -Inf : y[A,Jan] :             1572.0 :   True\n",
      "        ('A', 'Jul') :  -Inf : y[A,Jul] :             1600.2 :   True\n",
      "        ('A', 'Jun') :  -Inf : y[A,Jun] :              682.5 :   True\n",
      "        ('A', 'Mar') :  -Inf : y[A,Mar] :             1782.6 :   True\n",
      "        ('A', 'May') :  -Inf : y[A,May] :              597.6 :   True\n",
      "        ('A', 'Nov') :  -Inf : y[A,Nov] :             1285.2 :   True\n",
      "        ('A', 'Oct') :  -Inf : y[A,Oct] :             1058.7 :   True\n",
      "        ('A', 'Sep') :  -Inf : y[A,Sep] :             1127.7 :   True\n",
      "    outsrc_b : Size=12, Index=outsrc_b_index, Active=True\n",
      "        Key          : Lower : Body     : Upper              : Active\n",
      "        ('B', 'Apr') :  -Inf : y[B,Apr] :              935.2 :   True\n",
      "        ('B', 'Aug') :  -Inf : y[B,Aug] :             1048.0 :   True\n",
      "        ('B', 'Dec') :  -Inf : y[B,Dec] : 1690.8000000000002 :   True\n",
      "        ('B', 'Feb') :  -Inf : y[B,Feb] :             1051.2 :   True\n",
      "        ('B', 'Jan') :  -Inf : y[B,Jan] : 1970.8000000000002 :   True\n",
      "        ('B', 'Jul') :  -Inf : y[B,Jul] :             1708.4 :   True\n",
      "        ('B', 'Jun') :  -Inf : y[B,Jun] : 1258.8000000000002 :   True\n",
      "        ('B', 'Mar') :  -Inf : y[B,Mar] : 1189.6000000000001 :   True\n",
      "        ('B', 'May') :  -Inf : y[B,May] :             1608.0 :   True\n",
      "        ('B', 'Nov') :  -Inf : y[B,Nov] : 1254.8000000000002 :   True\n",
      "        ('B', 'Oct') :  -Inf : y[B,Oct] :             1662.0 :   True\n",
      "        ('B', 'Sep') :  -Inf : y[B,Sep] : 1806.8000000000002 :   True\n",
      "\n",
      "25 Declarations: BankLoc Month demand_index demand x_index_0 x_index_1 x_index x y_index_0 y_index_1 y_index y dmnd_index_0 dmnd_index_1 dmnd_index dmnd outsrc_a_index_0 outsrc_a_index_1 outsrc_a_index outsrc_a outsrc_b_index_0 outsrc_b_index_1 outsrc_b_index outsrc_b value\n"
     ]
    }
   ],
   "source": [
    "# Print the value of the objective function\n",
    "model.pprint()"
   ]
  },
  {
   "cell_type": "code",
   "execution_count": 13,
   "metadata": {},
   "outputs": [
    {
     "data": {
      "text/plain": [
       "17962336.448769882"
      ]
     },
     "execution_count": 13,
     "metadata": {},
     "output_type": "execute_result"
    }
   ],
   "source": [
    "model.value()"
   ]
  },
  {
   "cell_type": "markdown",
   "metadata": {},
   "source": [
    "#### The company has to spend $17.9m for the loan approval process"
   ]
  },
  {
   "cell_type": "markdown",
   "metadata": {},
   "source": [
    "**`Checkpoint 1:`** Seems like the company has to spend around 17.9 m$ in total for the application approval process."
   ]
  },
  {
   "cell_type": "code",
   "execution_count": 14,
   "metadata": {},
   "outputs": [
    {
     "name": "stdout",
     "output_type": "stream",
     "text": [
      "[['A', 'Jan', 161.728395061728, 0.0], ['A', 'Feb', 160.460526315789, 0.0], ['A', 'Mar', 198.066666666667, 0.0], ['A', 'Apr', 71.78125, 0.0], ['A', 'May', 63.8461538461538, 0.0], ['A', 'Jun', 77.9109589041096, 0.0], ['A', 'Jul', 137.279411764706, 1600.0], ['A', 'Aug', 110.888157894737, 0.0], ['A', 'Sep', 116.018518518519, 0.0], ['A', 'Oct', 120.856164383562, 0.0], ['A', 'Nov', 110.257352941176, 1285.0], ['A', 'Dec', 139.576923076923, 1554.0], ['B', 'Jan', 152.067901234568, 0.0], ['B', 'Feb', 51.875, 1051.0], ['B', 'Mar', 59.5, 1189.0], ['B', 'Apr', 73.0625, 0.0], ['B', 'May', 128.846153846154, 0.0], ['B', 'Jun', 64.6917808219178, 1258.0], ['B', 'Jul', 94.2279411764706, 1708.0], ['B', 'Aug', 51.7105263157895, 1048.0], ['B', 'Sep', 139.413580246914, 0.0], ['B', 'Oct', 85.3767123287671, 1662.0], ['B', 'Nov', 69.2279411764706, 1254.0], ['B', 'Dec', 97.5769230769231, 1690.0], ['C', 'Jan', 35.8641975308642, 0.0], ['C', 'Feb', 64.7039473684211, 0.0], ['C', 'Mar', 63.2666666666667, 0.0], ['C', 'Apr', 70.65625, 0.0], ['C', 'May', 65.0641025641026, 0.0], ['C', 'Jun', 56.2328767123288, 0.0], ['C', 'Jul', 0.0, 2489.0], ['C', 'Aug', 82.1052631578947, 0.0], ['C', 'Sep', 28.4567901234568, 0.0], ['C', 'Oct', 82.9109589041096, 0.0], ['C', 'Nov', 0.0, 963.0], ['C', 'Dec', 0.0, 1998.0]]\n"
     ]
    }
   ],
   "source": [
    "# Creating dataframe for the results\n",
    "#Creating an empty list\n",
    "Output = []\n",
    "\n",
    "for b in BankLoc:\n",
    "    for m in Month:\n",
    "        # Full time employees\n",
    "        FTE=model.x[b,m].value\n",
    "        \n",
    "        #No.of outsourced applications\n",
    "        Outsourced = model.y[b,m].value\n",
    "        \n",
    "        Output.append([b,m,FTE,Outsourced])\n",
    "print(Output)"
   ]
  },
  {
   "cell_type": "code",
   "execution_count": 15,
   "metadata": {},
   "outputs": [],
   "source": [
    "#Converting a 2D list into a dataframe\n",
    "Output = pd.DataFrame(Output,columns=['State', 'Month','Full-Time Equivalents','Outsourced Applications'])"
   ]
  },
  {
   "cell_type": "code",
   "execution_count": 16,
   "metadata": {},
   "outputs": [
    {
     "data": {
      "text/html": [
       "<div>\n",
       "<style scoped>\n",
       "    .dataframe tbody tr th:only-of-type {\n",
       "        vertical-align: middle;\n",
       "    }\n",
       "\n",
       "    .dataframe tbody tr th {\n",
       "        vertical-align: top;\n",
       "    }\n",
       "\n",
       "    .dataframe thead th {\n",
       "        text-align: right;\n",
       "    }\n",
       "</style>\n",
       "<table border=\"1\" class=\"dataframe\">\n",
       "  <thead>\n",
       "    <tr style=\"text-align: right;\">\n",
       "      <th></th>\n",
       "      <th>State</th>\n",
       "      <th>Month</th>\n",
       "      <th>Full-Time Equivalents</th>\n",
       "      <th>Outsourced Applications</th>\n",
       "    </tr>\n",
       "  </thead>\n",
       "  <tbody>\n",
       "    <tr>\n",
       "      <th>0</th>\n",
       "      <td>A</td>\n",
       "      <td>Jan</td>\n",
       "      <td>161.728395</td>\n",
       "      <td>0.0</td>\n",
       "    </tr>\n",
       "    <tr>\n",
       "      <th>1</th>\n",
       "      <td>A</td>\n",
       "      <td>Feb</td>\n",
       "      <td>160.460526</td>\n",
       "      <td>0.0</td>\n",
       "    </tr>\n",
       "    <tr>\n",
       "      <th>2</th>\n",
       "      <td>A</td>\n",
       "      <td>Mar</td>\n",
       "      <td>198.066667</td>\n",
       "      <td>0.0</td>\n",
       "    </tr>\n",
       "    <tr>\n",
       "      <th>3</th>\n",
       "      <td>A</td>\n",
       "      <td>Apr</td>\n",
       "      <td>71.781250</td>\n",
       "      <td>0.0</td>\n",
       "    </tr>\n",
       "    <tr>\n",
       "      <th>4</th>\n",
       "      <td>A</td>\n",
       "      <td>May</td>\n",
       "      <td>63.846154</td>\n",
       "      <td>0.0</td>\n",
       "    </tr>\n",
       "  </tbody>\n",
       "</table>\n",
       "</div>"
      ],
      "text/plain": [
       "  State Month  Full-Time Equivalents  Outsourced Applications\n",
       "0     A   Jan             161.728395                      0.0\n",
       "1     A   Feb             160.460526                      0.0\n",
       "2     A   Mar             198.066667                      0.0\n",
       "3     A   Apr              71.781250                      0.0\n",
       "4     A   May              63.846154                      0.0"
      ]
     },
     "execution_count": 16,
     "metadata": {},
     "output_type": "execute_result"
    }
   ],
   "source": [
    "Output.head()"
   ]
  },
  {
   "cell_type": "code",
   "execution_count": 17,
   "metadata": {},
   "outputs": [],
   "source": [
    "# Importing the required library\n",
    "#from openpyxl import load_workbook"
   ]
  },
  {
   "cell_type": "markdown",
   "metadata": {},
   "source": [
    "##### We are commenting out the process to write to Excel as we already have the desired results and having this might result in error in the code when someone else runs it from their end"
   ]
  },
  {
   "cell_type": "code",
   "execution_count": 18,
   "metadata": {},
   "outputs": [],
   "source": [
    "# Writing the results in to an Excel sheet\n",
    "#book = load_workbook(\"Output_data.xlsx\")\n",
    "\n",
    "# create excel writer object\n",
    "#writer = pd.ExcelWriter(\"Output_data.xlsx\", engine = 'openpyxl')\n",
    "\n",
    "\n",
    "#Assigning the workbook to the writer object\n",
    "#writer.book = book\n",
    "\n",
    "\n",
    "# write dataframe to excel sheet named 'output'\n",
    "#Output.to_excel(writer, sheet_name='Qsn2')\n",
    "\n",
    "\n",
    "# save the excel file\n",
    "#writer.save()\n",
    "#print('DataFrame is written successfully to Excel Sheet.')"
   ]
  },
  {
   "cell_type": "markdown",
   "metadata": {},
   "source": [
    "# Question 3 \n",
    "\n",
    "#### Expected Scenarios\n",
    "\n",
    "The company wants to get a solution for the scenario, where no more than 10% of the total applications for every month in each state is handled by the external resources, for quality assurance reasons\n",
    "\n",
    "- **`Q 3.1-`** What is the additional average cost per application of keeping the 10% limit on outsourcing? \n",
    "Note: Compare with the cost in question 2\n",
    "\n",
    "- **`Q 3.2-`** If the company increases the outsourcing costs by 20% to reflect the cost of quality assurance, what would you recommend the optimal percent of outsourcing should be?\n",
    "\n"
   ]
  },
  {
   "cell_type": "markdown",
   "metadata": {},
   "source": [
    "#### Expected output: \n",
    "`Subtask 3.1-` Create a data frame containing the number of outsourced applications and the number of FTEs for each state-month combination. You can choose to have extra columns like staff availability, demand etc. in your dataframe apart from the ones mentioned earlier. Also, print the additional average cost per application.\n",
    "\n",
    "`Subtask 3.2-` Create a data frame containing the number of outsourced applications and the number of FTEs for each state-month combination. You can choose to have extra columns like staff availability, demand etc. in your dataframe apart from the ones mentioned earlier. Also, print the additional average cost per application. Also, print the overall average optimal per cent of outsourcing."
   ]
  },
  {
   "cell_type": "markdown",
   "metadata": {},
   "source": [
    "### 3.1 Additional cost per application of keeping the 10% limit on outsourcing"
   ]
  },
  {
   "cell_type": "code",
   "execution_count": 19,
   "metadata": {},
   "outputs": [],
   "source": [
    "# Creating a model instance\n",
    "model2 = ConcreteModel()"
   ]
  },
  {
   "cell_type": "code",
   "execution_count": 20,
   "metadata": {},
   "outputs": [],
   "source": [
    "# Define Pyomo sets and Parameters\n",
    "#Pyomo sets\n",
    "model2.BankLoc = Set(initialize=BankLoc)\n",
    "model2.Month = Set(initialize=Month)\n",
    "#parameter\n",
    "model2.demand = Param(model2.BankLoc, model2.Month, initialize = demand)"
   ]
  },
  {
   "cell_type": "code",
   "execution_count": 21,
   "metadata": {},
   "outputs": [],
   "source": [
    "# Decision variables\n",
    "model2.x = Var(BankLoc, Month, within=NonNegativeReals)\n",
    "model2.y = Var(BankLoc, Month, within=NonNegativeIntegers)"
   ]
  },
  {
   "cell_type": "code",
   "execution_count": 22,
   "metadata": {},
   "outputs": [],
   "source": [
    "# Constraints\n",
    "\n",
    "## Demand Constraint\n",
    "        \n",
    "def demand_constraint(model2,b,m):\n",
    "    return((model2.x[b,m]*StaffAvPer[b,m]*40 + model2.y[b,m]) == demand[b,m])\n",
    "\n",
    "model2.dmnd = Constraint(BankLoc, Month, rule=demand_constraint)\n",
    "\n",
    "\n",
    "\n",
    "#Outsource Constraint\n",
    "def outsource_constraint(model2,b,m):\n",
    "    return(model2.y[b,m] <= 0.1*demand[b,m])\n",
    "model2.outsrc = Constraint(Bankloc,Month, rule = outsource_constraint)"
   ]
  },
  {
   "cell_type": "markdown",
   "metadata": {},
   "source": [
    "### Here the outsource constraint changes a bit as there cannot be more than 10% of the demand that can be outsourced "
   ]
  },
  {
   "cell_type": "code",
   "execution_count": 23,
   "metadata": {},
   "outputs": [],
   "source": [
    "# Objective function\n",
    "model2.value = Objective(expr = sum(sum(FTE_Salary[b,m]*model2.x[b,m] + UnitOutSourceCost[b,m]*model2.y[b,m]\n",
    "                                       for m in Month)for b in BankLoc), sense= minimize)"
   ]
  },
  {
   "cell_type": "code",
   "execution_count": 24,
   "metadata": {},
   "outputs": [
    {
     "name": "stdout",
     "output_type": "stream",
     "text": [
      "# ==========================================================\n",
      "# = Solver Results                                         =\n",
      "# ==========================================================\n",
      "# ----------------------------------------------------------\n",
      "#   Problem Information\n",
      "# ----------------------------------------------------------\n",
      "Problem: \n",
      "- Name: unknown\n",
      "  Lower bound: 18100979.3212198\n",
      "  Upper bound: 18100979.3212198\n",
      "  Number of objectives: 1\n",
      "  Number of constraints: 73\n",
      "  Number of variables: 73\n",
      "  Number of nonzeros: 109\n",
      "  Sense: minimize\n",
      "# ----------------------------------------------------------\n",
      "#   Solver Information\n",
      "# ----------------------------------------------------------\n",
      "Solver: \n",
      "- Status: ok\n",
      "  Termination condition: optimal\n",
      "  Statistics: \n",
      "    Branch and bound: \n",
      "      Number of bounded subproblems: 0\n",
      "      Number of created subproblems: 0\n",
      "  Error rc: 0\n",
      "  Time: 0.15957164764404297\n",
      "# ----------------------------------------------------------\n",
      "#   Solution Information\n",
      "# ----------------------------------------------------------\n",
      "Solution: \n",
      "- number of solutions: 0\n",
      "  number of solutions displayed: 0\n"
     ]
    }
   ],
   "source": [
    "# Invoking the solver\n",
    "result = SolverFactory('glpk').solve(model2)\n",
    "result.write()"
   ]
  },
  {
   "cell_type": "code",
   "execution_count": 25,
   "metadata": {},
   "outputs": [
    {
     "data": {
      "text/plain": [
       "18100979.321219858"
      ]
     },
     "execution_count": 25,
     "metadata": {},
     "output_type": "execute_result"
    }
   ],
   "source": [
    "# Print the value of the objective function\n",
    "model2.value()"
   ]
  },
  {
   "cell_type": "markdown",
   "metadata": {},
   "source": [
    "#### The company has to spend $18.1 m "
   ]
  },
  {
   "cell_type": "markdown",
   "metadata": {},
   "source": [
    "**`Checkpoint 2:`** The company has to spend around 18.1 m$ in total for the application approval process if there is 10% limit on the outsourcing."
   ]
  },
  {
   "cell_type": "code",
   "execution_count": 26,
   "metadata": {
    "scrolled": true
   },
   "outputs": [
    {
     "name": "stdout",
     "output_type": "stream",
     "text": [
      "[['A', 'Jan', 161.728395061728, 0.0], ['A', 'Feb', 160.460526315789, 0.0], ['A', 'Mar', 198.066666666667, 0.0], ['A', 'Apr', 71.78125, 0.0], ['A', 'May', 63.8461538461538, 0.0], ['A', 'Jun', 77.9109589041096, 0.0], ['A', 'Jul', 176.507352941176, 533.0], ['A', 'Aug', 110.888157894737, 0.0], ['A', 'Sep', 116.018518518519, 0.0], ['A', 'Oct', 120.856164383562, 0.0], ['A', 'Nov', 141.764705882353, 428.0], ['A', 'Dec', 179.423076923077, 518.0], ['B', 'Jan', 152.067901234568, 0.0], ['B', 'Feb', 77.8289473684211, 262.0], ['B', 'Mar', 89.2333333333333, 297.0], ['B', 'Apr', 73.0625, 0.0], ['B', 'May', 128.846153846154, 0.0], ['B', 'Jun', 97.0205479452055, 314.0], ['B', 'Jul', 141.323529411765, 427.0], ['B', 'Aug', 77.5657894736842, 262.0], ['B', 'Sep', 139.413580246914, 0.0], ['B', 'Oct', 128.082191780822, 415.0], ['B', 'Nov', 103.823529411765, 313.0], ['B', 'Dec', 146.346153846154, 422.0], ['C', 'Jan', 35.8641975308642, 0.0], ['C', 'Feb', 64.7039473684211, 0.0], ['C', 'Mar', 63.2666666666667, 0.0], ['C', 'Apr', 70.65625, 0.0], ['C', 'May', 65.0641025641026, 0.0], ['C', 'Jun', 56.2328767123288, 0.0], ['C', 'Jul', 82.3897058823529, 248.0], ['C', 'Aug', 82.1052631578947, 0.0], ['C', 'Sep', 28.4567901234568, 0.0], ['C', 'Oct', 82.9109589041096, 0.0], ['C', 'Nov', 31.875, 96.0], ['C', 'Dec', 69.1923076923077, 199.0]]\n"
     ]
    },
    {
     "data": {
      "text/html": [
       "<div>\n",
       "<style scoped>\n",
       "    .dataframe tbody tr th:only-of-type {\n",
       "        vertical-align: middle;\n",
       "    }\n",
       "\n",
       "    .dataframe tbody tr th {\n",
       "        vertical-align: top;\n",
       "    }\n",
       "\n",
       "    .dataframe thead th {\n",
       "        text-align: right;\n",
       "    }\n",
       "</style>\n",
       "<table border=\"1\" class=\"dataframe\">\n",
       "  <thead>\n",
       "    <tr style=\"text-align: right;\">\n",
       "      <th></th>\n",
       "      <th>State</th>\n",
       "      <th>Month</th>\n",
       "      <th>Full-Time Equivalents</th>\n",
       "      <th>Outsourced Applications</th>\n",
       "    </tr>\n",
       "  </thead>\n",
       "  <tbody>\n",
       "    <tr>\n",
       "      <th>0</th>\n",
       "      <td>A</td>\n",
       "      <td>Jan</td>\n",
       "      <td>161.728395</td>\n",
       "      <td>0.0</td>\n",
       "    </tr>\n",
       "    <tr>\n",
       "      <th>1</th>\n",
       "      <td>A</td>\n",
       "      <td>Feb</td>\n",
       "      <td>160.460526</td>\n",
       "      <td>0.0</td>\n",
       "    </tr>\n",
       "    <tr>\n",
       "      <th>2</th>\n",
       "      <td>A</td>\n",
       "      <td>Mar</td>\n",
       "      <td>198.066667</td>\n",
       "      <td>0.0</td>\n",
       "    </tr>\n",
       "    <tr>\n",
       "      <th>3</th>\n",
       "      <td>A</td>\n",
       "      <td>Apr</td>\n",
       "      <td>71.781250</td>\n",
       "      <td>0.0</td>\n",
       "    </tr>\n",
       "    <tr>\n",
       "      <th>4</th>\n",
       "      <td>A</td>\n",
       "      <td>May</td>\n",
       "      <td>63.846154</td>\n",
       "      <td>0.0</td>\n",
       "    </tr>\n",
       "  </tbody>\n",
       "</table>\n",
       "</div>"
      ],
      "text/plain": [
       "  State Month  Full-Time Equivalents  Outsourced Applications\n",
       "0     A   Jan             161.728395                      0.0\n",
       "1     A   Feb             160.460526                      0.0\n",
       "2     A   Mar             198.066667                      0.0\n",
       "3     A   Apr              71.781250                      0.0\n",
       "4     A   May              63.846154                      0.0"
      ]
     },
     "execution_count": 26,
     "metadata": {},
     "output_type": "execute_result"
    }
   ],
   "source": [
    "# Creating dataframe for the results\n",
    "Output_outsource_const = []\n",
    "\n",
    "for b in BankLoc:\n",
    "    for m in Month:\n",
    "        # Full time employees\n",
    "        FTE=model2.x[b,m].value\n",
    "        \n",
    "        #No.of outsourced applications\n",
    "        Outsourced = model2.y[b,m].value\n",
    "        \n",
    "        Output_outsource_const.append([b,m,FTE,Outsourced])\n",
    "print(Output_outsource_const)\n",
    "\n",
    "Output_outsource_const = pd.DataFrame(Output_outsource_const,columns=['State', 'Month','Full-Time Equivalents','Outsourced Applications'])\n",
    "Output_outsource_const.head()"
   ]
  },
  {
   "cell_type": "code",
   "execution_count": 27,
   "metadata": {},
   "outputs": [],
   "source": [
    "# Writing the results in to an Excel sheet\n",
    "#book = load_workbook(\"Output_data.xlsx\")\n",
    "\n",
    "# create excel writer object\n",
    "#writer = pd.ExcelWriter(\"Output_data.xlsx\", engine = 'openpyxl')\n",
    "\n",
    "\n",
    "#Assigning the workbook to the writer object\n",
    "#writer.book = book\n",
    "\n",
    "\n",
    "# write dataframe to excel sheet named 'output'\n",
    "#Output_outsource_const.to_excel(writer, sheet_name='Qsn_3_1')\n",
    "\n",
    "\n",
    "# save the excel file\n",
    "#writer.save()\n",
    "#print('DataFrame is written successfully to Excel Sheet.')"
   ]
  },
  {
   "cell_type": "code",
   "execution_count": 28,
   "metadata": {},
   "outputs": [
    {
     "name": "stdout",
     "output_type": "stream",
     "text": [
      "1.223744174007233\n"
     ]
    }
   ],
   "source": [
    "# Additional cost per application\n",
    "print((model2.value()-model.value())/sum(demand.values()))"
   ]
  },
  {
   "cell_type": "markdown",
   "metadata": {},
   "source": [
    "### Additional cost per application is $1.22"
   ]
  },
  {
   "cell_type": "markdown",
   "metadata": {},
   "source": [
    "### 3.2  Increase in the outsourcing costs by 20% "
   ]
  },
  {
   "cell_type": "code",
   "execution_count": 29,
   "metadata": {},
   "outputs": [],
   "source": [
    "# Creating a model instance\n",
    "model3 = ConcreteModel()"
   ]
  },
  {
   "cell_type": "code",
   "execution_count": 30,
   "metadata": {},
   "outputs": [],
   "source": [
    "# Define Pyomo sets and Parameters\n",
    "#Pyomo sets\n",
    "model3.BankLoc = Set(initialize=BankLoc)\n",
    "model3.Month = Set(initialize=Month)\n",
    "#parameter\n",
    "model3.demand = Param(model3.BankLoc, model3.Month, initialize = demand)"
   ]
  },
  {
   "cell_type": "code",
   "execution_count": 31,
   "metadata": {},
   "outputs": [],
   "source": [
    "# Decision variables\n",
    "model3.x = Var(BankLoc, Month, within=NonNegativeReals)\n",
    "model3.y = Var(BankLoc, Month, within=NonNegativeIntegers)"
   ]
  },
  {
   "cell_type": "code",
   "execution_count": 32,
   "metadata": {},
   "outputs": [],
   "source": [
    "# Constraints\n",
    "\n",
    "## Demand Constraint\n",
    "def demand_constraint(model3,b,m):\n",
    "    return((model3.x[b,m]*StaffAvPer[b,m]*40 + model3.y[b,m]) == demand[b,m])\n",
    "\n",
    "model3.dmnd = Constraint(BankLoc, Month, rule=demand_constraint)\n",
    "\n",
    "\n",
    "\n",
    "#Outsource Constraint\n",
    "def outsource_constraint(model3,b,m):\n",
    "    return(model3.y[b,m] <= 0.1*demand[b,m])\n",
    "model3.outsrc = Constraint(Bankloc,Month, rule = outsource_constraint)"
   ]
  },
  {
   "cell_type": "code",
   "execution_count": 33,
   "metadata": {},
   "outputs": [],
   "source": [
    "# Objective function\n",
    "model3.value = Objective(expr = sum(sum(FTE_Salary[b,m]*model3.x[b,m] + 1.2*UnitOutSourceCost[b,m]*model3.y[b,m]\n",
    "                                       for m in Month)for b in BankLoc), sense= minimize)"
   ]
  },
  {
   "cell_type": "markdown",
   "metadata": {},
   "source": [
    "### Here the objective function changes a bit as the outsource cost increases by 20%"
   ]
  },
  {
   "cell_type": "code",
   "execution_count": 34,
   "metadata": {},
   "outputs": [
    {
     "name": "stdout",
     "output_type": "stream",
     "text": [
      "# ==========================================================\n",
      "# = Solver Results                                         =\n",
      "# ==========================================================\n",
      "# ----------------------------------------------------------\n",
      "#   Problem Information\n",
      "# ----------------------------------------------------------\n",
      "Problem: \n",
      "- Name: unknown\n",
      "  Lower bound: 18144899.6638542\n",
      "  Upper bound: 18144899.6638542\n",
      "  Number of objectives: 1\n",
      "  Number of constraints: 73\n",
      "  Number of variables: 73\n",
      "  Number of nonzeros: 109\n",
      "  Sense: minimize\n",
      "# ----------------------------------------------------------\n",
      "#   Solver Information\n",
      "# ----------------------------------------------------------\n",
      "Solver: \n",
      "- Status: ok\n",
      "  Termination condition: optimal\n",
      "  Statistics: \n",
      "    Branch and bound: \n",
      "      Number of bounded subproblems: 0\n",
      "      Number of created subproblems: 0\n",
      "  Error rc: 0\n",
      "  Time: 0.19393396377563477\n",
      "# ----------------------------------------------------------\n",
      "#   Solution Information\n",
      "# ----------------------------------------------------------\n",
      "Solution: \n",
      "- number of solutions: 0\n",
      "  number of solutions displayed: 0\n"
     ]
    }
   ],
   "source": [
    "# Invoking the solver\n",
    "result = SolverFactory('glpk').solve(model3)\n",
    "result.write()"
   ]
  },
  {
   "cell_type": "code",
   "execution_count": 35,
   "metadata": {},
   "outputs": [
    {
     "data": {
      "text/plain": [
       "18144899.663854163"
      ]
     },
     "execution_count": 35,
     "metadata": {},
     "output_type": "execute_result"
    }
   ],
   "source": [
    "# Print the value of the objective function\n",
    "model3.value()"
   ]
  },
  {
   "cell_type": "markdown",
   "metadata": {},
   "source": [
    "### The company has to spend $18.14 m on increasing the outsourcing cost by 20%"
   ]
  },
  {
   "cell_type": "code",
   "execution_count": 36,
   "metadata": {},
   "outputs": [
    {
     "name": "stdout",
     "output_type": "stream",
     "text": [
      "[['A', 'Jan', 161.728395061728, 0.0], ['A', 'Feb', 160.460526315789, 0.0], ['A', 'Mar', 198.066666666667, 0.0], ['A', 'Apr', 71.78125, 0.0], ['A', 'May', 63.8461538461538, 0.0], ['A', 'Jun', 77.9109589041096, 0.0], ['A', 'Jul', 196.102941176471, 0.0], ['A', 'Aug', 110.888157894737, 0.0], ['A', 'Sep', 116.018518518519, 0.0], ['A', 'Oct', 120.856164383562, 0.0], ['A', 'Nov', 157.5, 0.0], ['A', 'Dec', 199.346153846154, 0.0], ['B', 'Jan', 152.067901234568, 0.0], ['B', 'Feb', 86.4473684210526, 0.0], ['B', 'Mar', 99.1333333333333, 0.0], ['B', 'Apr', 73.0625, 0.0], ['B', 'May', 128.846153846154, 0.0], ['B', 'Jun', 107.77397260274, 0.0], ['B', 'Jul', 157.022058823529, 0.0], ['B', 'Aug', 86.1842105263158, 0.0], ['B', 'Sep', 139.413580246914, 0.0], ['B', 'Oct', 142.294520547945, 0.0], ['B', 'Nov', 115.330882352941, 0.0], ['B', 'Dec', 162.576923076923, 0.0], ['C', 'Jan', 35.8641975308642, 0.0], ['C', 'Feb', 64.7039473684211, 0.0], ['C', 'Mar', 63.2666666666667, 0.0], ['C', 'Apr', 70.65625, 0.0], ['C', 'May', 65.0641025641026, 0.0], ['C', 'Jun', 56.2328767123288, 0.0], ['C', 'Jul', 91.5073529411765, 0.0], ['C', 'Aug', 82.1052631578947, 0.0], ['C', 'Sep', 28.4567901234568, 0.0], ['C', 'Oct', 82.9109589041096, 0.0], ['C', 'Nov', 35.4044117647059, 0.0], ['C', 'Dec', 76.8461538461538, 0.0]]\n"
     ]
    },
    {
     "data": {
      "text/html": [
       "<div>\n",
       "<style scoped>\n",
       "    .dataframe tbody tr th:only-of-type {\n",
       "        vertical-align: middle;\n",
       "    }\n",
       "\n",
       "    .dataframe tbody tr th {\n",
       "        vertical-align: top;\n",
       "    }\n",
       "\n",
       "    .dataframe thead th {\n",
       "        text-align: right;\n",
       "    }\n",
       "</style>\n",
       "<table border=\"1\" class=\"dataframe\">\n",
       "  <thead>\n",
       "    <tr style=\"text-align: right;\">\n",
       "      <th></th>\n",
       "      <th>State</th>\n",
       "      <th>Month</th>\n",
       "      <th>Full-Time Equivalents</th>\n",
       "      <th>Outsourced Applications</th>\n",
       "    </tr>\n",
       "  </thead>\n",
       "  <tbody>\n",
       "    <tr>\n",
       "      <th>0</th>\n",
       "      <td>A</td>\n",
       "      <td>Jan</td>\n",
       "      <td>161.728395</td>\n",
       "      <td>0.0</td>\n",
       "    </tr>\n",
       "    <tr>\n",
       "      <th>1</th>\n",
       "      <td>A</td>\n",
       "      <td>Feb</td>\n",
       "      <td>160.460526</td>\n",
       "      <td>0.0</td>\n",
       "    </tr>\n",
       "    <tr>\n",
       "      <th>2</th>\n",
       "      <td>A</td>\n",
       "      <td>Mar</td>\n",
       "      <td>198.066667</td>\n",
       "      <td>0.0</td>\n",
       "    </tr>\n",
       "    <tr>\n",
       "      <th>3</th>\n",
       "      <td>A</td>\n",
       "      <td>Apr</td>\n",
       "      <td>71.781250</td>\n",
       "      <td>0.0</td>\n",
       "    </tr>\n",
       "    <tr>\n",
       "      <th>4</th>\n",
       "      <td>A</td>\n",
       "      <td>May</td>\n",
       "      <td>63.846154</td>\n",
       "      <td>0.0</td>\n",
       "    </tr>\n",
       "  </tbody>\n",
       "</table>\n",
       "</div>"
      ],
      "text/plain": [
       "  State Month  Full-Time Equivalents  Outsourced Applications\n",
       "0     A   Jan             161.728395                      0.0\n",
       "1     A   Feb             160.460526                      0.0\n",
       "2     A   Mar             198.066667                      0.0\n",
       "3     A   Apr              71.781250                      0.0\n",
       "4     A   May              63.846154                      0.0"
      ]
     },
     "execution_count": 36,
     "metadata": {},
     "output_type": "execute_result"
    }
   ],
   "source": [
    "# Creating dataframe for the results\n",
    "Output_outsource_cost20 = []\n",
    "\n",
    "for b in BankLoc:\n",
    "    for m in Month:\n",
    "        # Full time employees\n",
    "        FTE=model3.x[b,m].value\n",
    "        \n",
    "        #No.of outsourced applications\n",
    "        Outsourced = model3.y[b,m].value\n",
    "        \n",
    "        Output_outsource_cost20.append([b,m,FTE,Outsourced])\n",
    "print(Output_outsource_cost20)\n",
    "\n",
    "Output_outsource_cost20 = pd.DataFrame(Output_outsource_cost20,columns=['State', 'Month','Full-Time Equivalents','Outsourced Applications'])\n",
    "Output_outsource_cost20.head()"
   ]
  },
  {
   "cell_type": "markdown",
   "metadata": {},
   "source": [
    "**`Checkpoint 3:`** On increasing the outsourcing cost by 20%, the company has to spend around 18.14 m$, which is slightly more than the previous case ."
   ]
  },
  {
   "cell_type": "code",
   "execution_count": 37,
   "metadata": {},
   "outputs": [],
   "source": [
    "# Writing the results in to an Excel sheet\n",
    "#book = load_workbook(\"Output_data.xlsx\")\n",
    "\n",
    "# create excel writer object\n",
    "#writer = pd.ExcelWriter(\"Output_data.xlsx\", engine = 'openpyxl')\n",
    "\n",
    "\n",
    "#Assigning the workbook to the writer object\n",
    "#writer.book = book\n",
    "\n",
    "\n",
    "# write dataframe to excel sheet named 'output'\n",
    "#Output_outsource_cost20.to_excel(writer, sheet_name='Qsn_3_2')\n",
    "\n",
    "\n",
    "# save the excel file\n",
    "#writer.save()\n",
    "#print('DataFrame is written successfully to Excel Sheet.')"
   ]
  },
  {
   "cell_type": "code",
   "execution_count": 38,
   "metadata": {},
   "outputs": [
    {
     "name": "stdout",
     "output_type": "stream",
     "text": [
      "1.6114111522612038\n"
     ]
    }
   ],
   "source": [
    "# Additional cost per application\n",
    "print((model3.value()-model.value())/sum(demand.values()))"
   ]
  },
  {
   "cell_type": "markdown",
   "metadata": {},
   "source": [
    "### Additional cost per application is $1.6, compared to the first model"
   ]
  },
  {
   "cell_type": "code",
   "execution_count": 39,
   "metadata": {},
   "outputs": [
    {
     "name": "stdout",
     "output_type": "stream",
     "text": [
      "0.0\n"
     ]
    }
   ],
   "source": [
    "# Average optimal percentage of outsourcing \n",
    "average_optimal_perc = Output_outsource_cost20['Outsourced Applications'].sum()\n",
    "print(average_optimal_perc)"
   ]
  },
  {
   "cell_type": "markdown",
   "metadata": {},
   "source": [
    "### With increase in outsourcing costs by 20%, the company should not outsource at all! The outsourcing cost is too much and it is better to process the applications with the FTE's"
   ]
  },
  {
   "cell_type": "markdown",
   "metadata": {},
   "source": [
    "# Question 4\n",
    "\n",
    "#### Worst-case and best-case analysis based on the staffs' availability.\n",
    "\n",
    "Assuming that the distribution is the same across all the states,\n",
    "\n",
    "#### 4.1 Worst case analysis \n",
    "\n",
    "- 4.1.1 What is the optimal number of staff members for the worst and best cases? \n",
    "\n",
    "- 4.1.2 What is the percentage of outsourcing for the worst and best cases? \n",
    "\n",
    "- 4.1.3 What is the average cost per application for the worst and best cases?\n",
    "\n",
    "\n",
    "#### 4.2 Best case analysis \n",
    "\n",
    "- 4.2.1 What is the optimal number of staff members for the worst and best cases? \n",
    "\n",
    "- 4.2.2 What is the percentage of outsourcing for the worst and best cases? \n",
    "\n",
    "- 4.2.3 What is the average cost per application for the worst and best cases?\n"
   ]
  },
  {
   "cell_type": "markdown",
   "metadata": {},
   "source": [
    "#### Expected output:\n",
    "\n",
    "For each of the subtasks (4.1 and 4.2) create a data frame containing the number of outsourced applications and the number of FTEs for each state-month combination. You can choose to have extra columns like staff availability, demand etc. in your dataframe apart from the ones mentioned earlier. Also, print the overall average percentage of outsourced applications and the overall average cost per application. "
   ]
  },
  {
   "cell_type": "markdown",
   "metadata": {},
   "source": [
    "### 4.1 Worst Case Analysis "
   ]
  },
  {
   "cell_type": "markdown",
   "metadata": {},
   "source": [
    "#### 4.1.1 Optimal number of staff members"
   ]
  },
  {
   "cell_type": "code",
   "execution_count": 40,
   "metadata": {},
   "outputs": [],
   "source": [
    "# Creating a model instance\n",
    "model4 = ConcreteModel()"
   ]
  },
  {
   "cell_type": "code",
   "execution_count": 41,
   "metadata": {},
   "outputs": [],
   "source": [
    "# Define Pyomo sets and Parameters\n",
    "#Pyomo sets\n",
    "model4.BankLoc = Set(initialize=BankLoc)\n",
    "model4.Month = Set(initialize=Month)\n",
    "#parameter\n",
    "model4.demand = Param(model4.BankLoc, model4.Month, initialize = demand)"
   ]
  },
  {
   "cell_type": "code",
   "execution_count": 42,
   "metadata": {},
   "outputs": [],
   "source": [
    "# Decision variables\n",
    "model4.x = Var(BankLoc, Month, within=NonNegativeReals)\n",
    "model4.y = Var(BankLoc, Month, within=NonNegativeIntegers)"
   ]
  },
  {
   "cell_type": "code",
   "execution_count": 43,
   "metadata": {},
   "outputs": [],
   "source": [
    "# Constraints\n",
    "\n",
    "## Demand Constraint\n",
    "def demand_constraint(model4,b,m):\n",
    "    return((model4.x[b,m]*StaffAv_LB[b,m]*40 + model4.y[b,m]) == demand[b,m])\n",
    "\n",
    "model4.dmnd = Constraint(BankLoc, Month, rule=demand_constraint)\n",
    "\n",
    "## Regulatory Restriction\n",
    "def outsource_constraint_a(model4, b, m):\n",
    "    return(model4.y[b,m] <= 0.3*demand[b,m])\n",
    "\n",
    "model4.outsrc_a = Constraint(BankLoc[0], Month, rule=outsource_constraint_a)\n",
    "\n",
    "def outsource_constraint_b(model4, b, m):\n",
    "    return(model4.y[b,m] <= 0.4*demand[b,m])\n",
    "\n",
    "model4.outsrc_b = Constraint(BankLoc[1], Month, rule=outsource_constraint_b)"
   ]
  },
  {
   "cell_type": "code",
   "execution_count": 44,
   "metadata": {},
   "outputs": [],
   "source": [
    "# Objective function\n",
    "model4.value = Objective(expr = sum(sum(FTE_Salary[b,m]*model4.x[b,m] + UnitOutSourceCost[b,m]*model4.y[b,m]\n",
    "                                       for m in Month)for b in BankLoc), sense= minimize)"
   ]
  },
  {
   "cell_type": "code",
   "execution_count": 45,
   "metadata": {},
   "outputs": [
    {
     "name": "stdout",
     "output_type": "stream",
     "text": [
      "# ==========================================================\n",
      "# = Solver Results                                         =\n",
      "# ==========================================================\n",
      "# ----------------------------------------------------------\n",
      "#   Problem Information\n",
      "# ----------------------------------------------------------\n",
      "Problem: \n",
      "- Name: unknown\n",
      "  Lower bound: 19599482.5167888\n",
      "  Upper bound: 19599482.5167888\n",
      "  Number of objectives: 1\n",
      "  Number of constraints: 61\n",
      "  Number of variables: 73\n",
      "  Number of nonzeros: 97\n",
      "  Sense: minimize\n",
      "# ----------------------------------------------------------\n",
      "#   Solver Information\n",
      "# ----------------------------------------------------------\n",
      "Solver: \n",
      "- Status: ok\n",
      "  Termination condition: optimal\n",
      "  Statistics: \n",
      "    Branch and bound: \n",
      "      Number of bounded subproblems: 0\n",
      "      Number of created subproblems: 0\n",
      "  Error rc: 0\n",
      "  Time: 0.14461398124694824\n",
      "# ----------------------------------------------------------\n",
      "#   Solution Information\n",
      "# ----------------------------------------------------------\n",
      "Solution: \n",
      "- number of solutions: 0\n",
      "  number of solutions displayed: 0\n"
     ]
    }
   ],
   "source": [
    "# Invoking the solver\n",
    "result = SolverFactory('glpk').solve(model4)\n",
    "result.write()"
   ]
  },
  {
   "cell_type": "code",
   "execution_count": 46,
   "metadata": {},
   "outputs": [
    {
     "data": {
      "text/plain": [
       "19599482.516788762"
      ]
     },
     "execution_count": 46,
     "metadata": {},
     "output_type": "execute_result"
    }
   ],
   "source": [
    "# Print the value of the objective function\n",
    "model4.value()"
   ]
  },
  {
   "cell_type": "markdown",
   "metadata": {},
   "source": [
    "### The company has to spend $19.6 m in the worst case scenario"
   ]
  },
  {
   "cell_type": "markdown",
   "metadata": {},
   "source": [
    "**`Checkpoint 4:`** The company has to spend around 19.6 m$ in total for the application approval process if the staffs are working with the minimum availability."
   ]
  },
  {
   "cell_type": "code",
   "execution_count": 47,
   "metadata": {},
   "outputs": [
    {
     "name": "stdout",
     "output_type": "stream",
     "text": [
      "[['A', 'Jan', 187.142857142857, 0.0], ['A', 'Feb', 131.346153846154, 1463.0], ['A', 'Mar', 212.214285714286, 0.0], ['A', 'Apr', 76.5666666666667, 0.0], ['A', 'May', 71.1428571428571, 0.0], ['A', 'Jun', 61.2692307692308, 682.0], ['A', 'Jul', 155.583333333333, 1600.0], ['A', 'Aug', 90.7692307692308, 1011.0], ['A', 'Sep', 134.25, 0.0], ['A', 'Oct', 95.0384615384615, 1058.0], ['A', 'Nov', 124.958333333333, 1285.0], ['A', 'Dec', 151.208333333333, 1554.0], ['B', 'Jan', 105.607142857143, 1970.0], ['B', 'Feb', 60.6538461538462, 1051.0], ['B', 'Mar', 63.75, 1189.0], ['B', 'Apr', 46.7666666666667, 935.0], ['B', 'May', 86.1428571428571, 1608.0], ['B', 'Jun', 72.6538461538462, 1258.0], ['B', 'Jul', 106.791666666667, 1708.0], ['B', 'Aug', 60.4615384615385, 1048.0], ['B', 'Sep', 96.8214285714286, 1806.0], ['B', 'Oct', 95.8846153846154, 1662.0], ['B', 'Nov', 78.4583333333333, 1254.0], ['B', 'Dec', 105.708333333333, 1690.0], ['C', 'Jan', 41.5, 0.0], ['C', 'Feb', 0.0, 1967.0], ['C', 'Mar', 67.7857142857143, 0.0], ['C', 'Apr', 75.3666666666667, 0.0], ['C', 'May', 72.5, 0.0], ['C', 'Jun', 0.0, 1642.0], ['C', 'Jul', 0.0, 2489.0], ['C', 'Aug', 0.0, 2496.0], ['C', 'Sep', 32.9285714285714, 0.0], ['C', 'Oct', 0.0, 2421.0], ['C', 'Nov', 0.0, 963.0], ['C', 'Dec', 0.0, 1998.0]]\n"
     ]
    },
    {
     "data": {
      "text/html": [
       "<div>\n",
       "<style scoped>\n",
       "    .dataframe tbody tr th:only-of-type {\n",
       "        vertical-align: middle;\n",
       "    }\n",
       "\n",
       "    .dataframe tbody tr th {\n",
       "        vertical-align: top;\n",
       "    }\n",
       "\n",
       "    .dataframe thead th {\n",
       "        text-align: right;\n",
       "    }\n",
       "</style>\n",
       "<table border=\"1\" class=\"dataframe\">\n",
       "  <thead>\n",
       "    <tr style=\"text-align: right;\">\n",
       "      <th></th>\n",
       "      <th>State</th>\n",
       "      <th>Month</th>\n",
       "      <th>Full-Time Equivalents</th>\n",
       "      <th>Outsourced Applications</th>\n",
       "    </tr>\n",
       "  </thead>\n",
       "  <tbody>\n",
       "    <tr>\n",
       "      <th>0</th>\n",
       "      <td>A</td>\n",
       "      <td>Jan</td>\n",
       "      <td>187.142857</td>\n",
       "      <td>0.0</td>\n",
       "    </tr>\n",
       "    <tr>\n",
       "      <th>1</th>\n",
       "      <td>A</td>\n",
       "      <td>Feb</td>\n",
       "      <td>131.346154</td>\n",
       "      <td>1463.0</td>\n",
       "    </tr>\n",
       "    <tr>\n",
       "      <th>2</th>\n",
       "      <td>A</td>\n",
       "      <td>Mar</td>\n",
       "      <td>212.214286</td>\n",
       "      <td>0.0</td>\n",
       "    </tr>\n",
       "    <tr>\n",
       "      <th>3</th>\n",
       "      <td>A</td>\n",
       "      <td>Apr</td>\n",
       "      <td>76.566667</td>\n",
       "      <td>0.0</td>\n",
       "    </tr>\n",
       "    <tr>\n",
       "      <th>4</th>\n",
       "      <td>A</td>\n",
       "      <td>May</td>\n",
       "      <td>71.142857</td>\n",
       "      <td>0.0</td>\n",
       "    </tr>\n",
       "  </tbody>\n",
       "</table>\n",
       "</div>"
      ],
      "text/plain": [
       "  State Month  Full-Time Equivalents  Outsourced Applications\n",
       "0     A   Jan             187.142857                      0.0\n",
       "1     A   Feb             131.346154                   1463.0\n",
       "2     A   Mar             212.214286                      0.0\n",
       "3     A   Apr              76.566667                      0.0\n",
       "4     A   May              71.142857                      0.0"
      ]
     },
     "execution_count": 47,
     "metadata": {},
     "output_type": "execute_result"
    }
   ],
   "source": [
    "# Creating dataframe for the results\n",
    "Output_wrstcase = []\n",
    "\n",
    "for b in BankLoc:\n",
    "    for m in Month:\n",
    "        # Full time employees\n",
    "        FTE=model4.x[b,m].value\n",
    "        \n",
    "        #No.of outsourced applications\n",
    "        Outsourced = model4.y[b,m].value\n",
    "        \n",
    "        Output_wrstcase.append([b,m,FTE,Outsourced])\n",
    "print(Output_wrstcase)\n",
    "\n",
    "Output_wrstcase = pd.DataFrame(Output_wrstcase,columns=['State', 'Month','Full-Time Equivalents','Outsourced Applications'])\n",
    "Output_wrstcase.head()"
   ]
  },
  {
   "cell_type": "code",
   "execution_count": 48,
   "metadata": {},
   "outputs": [],
   "source": [
    "# Writing the results in to an Excel sheet\n",
    "#book = load_workbook(\"Output_data.xlsx\")\n",
    "\n",
    "# create excel writer object\n",
    "#writer = pd.ExcelWriter(\"Output_data.xlsx\", engine = 'openpyxl')\n",
    "\n",
    "\n",
    "#Assigning the workbook to the writer object\n",
    "#writer.book = book\n",
    "\n",
    "\n",
    "# write dataframe to excel sheet named 'output'\n",
    "#Output_wrstcase.to_excel(writer, sheet_name='Qsn_4_1')\n",
    "\n",
    "\n",
    "# save the excel file\n",
    "#writer.save()\n",
    "#print('DataFrame is written successfully to Excel Sheet.')"
   ]
  },
  {
   "cell_type": "code",
   "execution_count": 49,
   "metadata": {},
   "outputs": [
    {
     "data": {
      "text/plain": [
       "2761.2709706959704"
      ]
     },
     "execution_count": 49,
     "metadata": {},
     "output_type": "execute_result"
    }
   ],
   "source": [
    "# Optimal number of staffs\n",
    "Output_wrstcase['Full-Time Equivalents'].sum()"
   ]
  },
  {
   "cell_type": "markdown",
   "metadata": {},
   "source": [
    "### The optimal number of staffs is 2761 in the worst case scenario"
   ]
  },
  {
   "cell_type": "markdown",
   "metadata": {},
   "source": [
    "#### 4.1.2 Percentage of outsourced applications "
   ]
  },
  {
   "cell_type": "code",
   "execution_count": 50,
   "metadata": {},
   "outputs": [
    {
     "name": "stdout",
     "output_type": "stream",
     "text": [
      "35.13690045368687\n"
     ]
    }
   ],
   "source": [
    "# write your code here\n",
    "outsourced_app_perc = Output_wrstcase['Outsourced Applications'].sum()/sum(demand.values())\n",
    "print(outsourced_app_perc*100)"
   ]
  },
  {
   "cell_type": "markdown",
   "metadata": {},
   "source": [
    "### Percentage of outsourced applications is 35.13%, in the worst case scenario"
   ]
  },
  {
   "cell_type": "markdown",
   "metadata": {},
   "source": [
    "#### 4.1.3 Average cost per application"
   ]
  },
  {
   "cell_type": "code",
   "execution_count": 51,
   "metadata": {},
   "outputs": [
    {
     "name": "stdout",
     "output_type": "stream",
     "text": [
      "172.99665045623564\n"
     ]
    }
   ],
   "source": [
    "# write your code here\n",
    "print(model4.value()/sum(demand.values()))"
   ]
  },
  {
   "cell_type": "markdown",
   "metadata": {},
   "source": [
    "### Average cost per application is $173, in the worst case scenario"
   ]
  },
  {
   "cell_type": "markdown",
   "metadata": {},
   "source": [
    "### 4.2  Best Case Analysis "
   ]
  },
  {
   "cell_type": "markdown",
   "metadata": {},
   "source": [
    "#### 4.2.1 Optimal number of staff members\n"
   ]
  },
  {
   "cell_type": "code",
   "execution_count": 52,
   "metadata": {},
   "outputs": [],
   "source": [
    "# Creating a model instance\n",
    "model5 = ConcreteModel()"
   ]
  },
  {
   "cell_type": "code",
   "execution_count": 53,
   "metadata": {},
   "outputs": [],
   "source": [
    "# Define Pyomo sets and Parameters\n",
    "#Pyomo sets\n",
    "model5.BankLoc = Set(initialize=BankLoc)\n",
    "model5.Month = Set(initialize=Month)\n",
    "#parameter\n",
    "model5.demand = Param(model5.BankLoc, model5.Month, initialize = demand)"
   ]
  },
  {
   "cell_type": "code",
   "execution_count": 54,
   "metadata": {},
   "outputs": [],
   "source": [
    "# Decision variables\n",
    "model5.x = Var(BankLoc, Month, within=NonNegativeReals)\n",
    "model5.y = Var(BankLoc, Month, within=NonNegativeIntegers)"
   ]
  },
  {
   "cell_type": "code",
   "execution_count": 55,
   "metadata": {},
   "outputs": [],
   "source": [
    "# Constraints\n",
    "## Demand Constraint\n",
    "def demand_constraint(model5,b,m):\n",
    "    return((model5.x[b,m]*StaffAv_UB[b,m]*40 + model5.y[b,m]) == demand[b,m])\n",
    "\n",
    "model5.dmnd = Constraint(BankLoc, Month, rule=demand_constraint)\n",
    "\n",
    "## Regulatory Restriction\n",
    "def outsource_constraint_a(model5, b, m):\n",
    "    return(model5.y[b,m] <= 0.3*demand[b,m])\n",
    "\n",
    "model5.outsrc_a = Constraint(BankLoc[0], Month, rule=outsource_constraint_a)\n",
    "\n",
    "def outsource_constraint_b(model5, b, m):\n",
    "    return(model5.y[b,m] <= 0.4*demand[b,m])\n",
    "\n",
    "model5.outsrc_b = Constraint(BankLoc[1], Month, rule=outsource_constraint_b)"
   ]
  },
  {
   "cell_type": "code",
   "execution_count": 56,
   "metadata": {},
   "outputs": [],
   "source": [
    "# Objective function\n",
    "model5.value = Objective(expr = sum(sum(FTE_Salary[b,m]*model5.x[b,m] + UnitOutSourceCost[b,m]*model5.y[b,m]\n",
    "                                       for m in Month)for b in BankLoc), sense= minimize)"
   ]
  },
  {
   "cell_type": "code",
   "execution_count": 57,
   "metadata": {},
   "outputs": [
    {
     "name": "stdout",
     "output_type": "stream",
     "text": [
      "# ==========================================================\n",
      "# = Solver Results                                         =\n",
      "# ==========================================================\n",
      "# ----------------------------------------------------------\n",
      "#   Problem Information\n",
      "# ----------------------------------------------------------\n",
      "Problem: \n",
      "- Name: unknown\n",
      "  Lower bound: 16527535.6379357\n",
      "  Upper bound: 16527535.6379357\n",
      "  Number of objectives: 1\n",
      "  Number of constraints: 61\n",
      "  Number of variables: 73\n",
      "  Number of nonzeros: 97\n",
      "  Sense: minimize\n",
      "# ----------------------------------------------------------\n",
      "#   Solver Information\n",
      "# ----------------------------------------------------------\n",
      "Solver: \n",
      "- Status: ok\n",
      "  Termination condition: optimal\n",
      "  Statistics: \n",
      "    Branch and bound: \n",
      "      Number of bounded subproblems: 0\n",
      "      Number of created subproblems: 0\n",
      "  Error rc: 0\n",
      "  Time: 0.2036302089691162\n",
      "# ----------------------------------------------------------\n",
      "#   Solution Information\n",
      "# ----------------------------------------------------------\n",
      "Solution: \n",
      "- number of solutions: 0\n",
      "  number of solutions displayed: 0\n"
     ]
    }
   ],
   "source": [
    "# Invoking the solver\n",
    "result = SolverFactory('glpk').solve(model5)\n",
    "result.write()"
   ]
  },
  {
   "cell_type": "code",
   "execution_count": 58,
   "metadata": {},
   "outputs": [
    {
     "data": {
      "text/plain": [
       "16527535.63793573"
      ]
     },
     "execution_count": 58,
     "metadata": {},
     "output_type": "execute_result"
    }
   ],
   "source": [
    "# Print the value of the objective function\n",
    "model5.value()"
   ]
  },
  {
   "cell_type": "markdown",
   "metadata": {},
   "source": [
    "### The company has to spend $16.5 m in the best case scenario"
   ]
  },
  {
   "cell_type": "markdown",
   "metadata": {},
   "source": [
    "**`Checkpoint 5:`** The company has to spend around 16.5 m$ in total for the application approval process if the staffs are working with the maximum availability."
   ]
  },
  {
   "cell_type": "code",
   "execution_count": 59,
   "metadata": {},
   "outputs": [
    {
     "name": "stdout",
     "output_type": "stream",
     "text": [
      "[['A', 'Jan', 145.555555555556, 0.0], ['A', 'Feb', 143.470588235294, 0.0], ['A', 'Mar', 185.6875, 0.0], ['A', 'Apr', 67.5588235294118, 0.0], ['A', 'May', 58.5882352941176, 0.0], ['A', 'Jun', 71.09375, 0.0], ['A', 'Jul', 177.8, 0.0], ['A', 'Aug', 99.1470588235294, 0.0], ['A', 'Sep', 104.416666666667, 0.0], ['A', 'Oct', 110.28125, 0.0], ['A', 'Nov', 142.8, 0.0], ['A', 'Dec', 185.107142857143, 0.0], ['B', 'Jan', 136.861111111111, 0.0], ['B', 'Feb', 77.2941176470588, 0.0], ['B', 'Mar', 92.9375, 0.0], ['B', 'Apr', 68.7647058823529, 0.0], ['B', 'May', 118.235294117647, 0.0], ['B', 'Jun', 98.34375, 0.0], ['B', 'Jul', 85.4333333333333, 1708.0], ['B', 'Aug', 77.0588235294118, 0.0], ['B', 'Sep', 125.472222222222, 0.0], ['B', 'Oct', 129.84375, 0.0], ['B', 'Nov', 62.7666666666667, 1254.0], ['B', 'Dec', 90.6071428571429, 1690.0], ['C', 'Jan', 32.2777777777778, 0.0], ['C', 'Feb', 57.8529411764706, 0.0], ['C', 'Mar', 59.3125, 0.0], ['C', 'Apr', 66.5, 0.0], ['C', 'May', 59.7058823529412, 0.0], ['C', 'Jun', 51.3125, 0.0], ['C', 'Jul', 82.9666666666667, 0.0], ['C', 'Aug', 73.4117647058823, 0.0], ['C', 'Sep', 25.6111111111111, 0.0], ['C', 'Oct', 75.65625, 0.0], ['C', 'Nov', 32.1, 0.0], ['C', 'Dec', 71.3571428571429, 0.0]]\n"
     ]
    },
    {
     "data": {
      "text/html": [
       "<div>\n",
       "<style scoped>\n",
       "    .dataframe tbody tr th:only-of-type {\n",
       "        vertical-align: middle;\n",
       "    }\n",
       "\n",
       "    .dataframe tbody tr th {\n",
       "        vertical-align: top;\n",
       "    }\n",
       "\n",
       "    .dataframe thead th {\n",
       "        text-align: right;\n",
       "    }\n",
       "</style>\n",
       "<table border=\"1\" class=\"dataframe\">\n",
       "  <thead>\n",
       "    <tr style=\"text-align: right;\">\n",
       "      <th></th>\n",
       "      <th>State</th>\n",
       "      <th>Month</th>\n",
       "      <th>Full-Time Equivalents</th>\n",
       "      <th>Outsourced Applications</th>\n",
       "    </tr>\n",
       "  </thead>\n",
       "  <tbody>\n",
       "    <tr>\n",
       "      <th>0</th>\n",
       "      <td>A</td>\n",
       "      <td>Jan</td>\n",
       "      <td>145.555556</td>\n",
       "      <td>0.0</td>\n",
       "    </tr>\n",
       "    <tr>\n",
       "      <th>1</th>\n",
       "      <td>A</td>\n",
       "      <td>Feb</td>\n",
       "      <td>143.470588</td>\n",
       "      <td>0.0</td>\n",
       "    </tr>\n",
       "    <tr>\n",
       "      <th>2</th>\n",
       "      <td>A</td>\n",
       "      <td>Mar</td>\n",
       "      <td>185.687500</td>\n",
       "      <td>0.0</td>\n",
       "    </tr>\n",
       "    <tr>\n",
       "      <th>3</th>\n",
       "      <td>A</td>\n",
       "      <td>Apr</td>\n",
       "      <td>67.558824</td>\n",
       "      <td>0.0</td>\n",
       "    </tr>\n",
       "    <tr>\n",
       "      <th>4</th>\n",
       "      <td>A</td>\n",
       "      <td>May</td>\n",
       "      <td>58.588235</td>\n",
       "      <td>0.0</td>\n",
       "    </tr>\n",
       "  </tbody>\n",
       "</table>\n",
       "</div>"
      ],
      "text/plain": [
       "  State Month  Full-Time Equivalents  Outsourced Applications\n",
       "0     A   Jan             145.555556                      0.0\n",
       "1     A   Feb             143.470588                      0.0\n",
       "2     A   Mar             185.687500                      0.0\n",
       "3     A   Apr              67.558824                      0.0\n",
       "4     A   May              58.588235                      0.0"
      ]
     },
     "execution_count": 59,
     "metadata": {},
     "output_type": "execute_result"
    }
   ],
   "source": [
    "# Creating dataframe for the results\n",
    "Output_bestcase = []\n",
    "\n",
    "for b in BankLoc:\n",
    "    for m in Month:\n",
    "        # Full time employees\n",
    "        FTE=model5.x[b,m].value\n",
    "        \n",
    "        #No.of outsourced applications\n",
    "        Outsourced = model5.y[b,m].value\n",
    "        \n",
    "        Output_bestcase.append([b,m,FTE,Outsourced])\n",
    "print(Output_bestcase)\n",
    "\n",
    "Output_bestcase = pd.DataFrame(Output_bestcase,columns=['State', 'Month','Full-Time Equivalents','Outsourced Applications'])\n",
    "Output_bestcase.head()"
   ]
  },
  {
   "cell_type": "code",
   "execution_count": 60,
   "metadata": {},
   "outputs": [],
   "source": [
    "# Writing the results in to an Excel sheet\n",
    "#book = load_workbook(\"Output_data.xlsx\")\n",
    "\n",
    "# create excel writer object\n",
    "#writer = pd.ExcelWriter(\"Output_data.xlsx\", engine = 'openpyxl')\n",
    "\n",
    "\n",
    "#Assigning the workbook to the writer object\n",
    "#writer.book = book\n",
    "\n",
    "\n",
    "# write dataframe to excel sheet named 'output'\n",
    "#Output_bestcase.to_excel(writer, sheet_name='Qsn_4_2')\n",
    "\n",
    "\n",
    "# save the excel file\n",
    "#writer.save()\n",
    "#print('DataFrame is written successfully to Excel Sheet.')"
   ]
  },
  {
   "cell_type": "code",
   "execution_count": 61,
   "metadata": {},
   "outputs": [
    {
     "data": {
      "text/plain": [
       "3343.189524976658"
      ]
     },
     "execution_count": 61,
     "metadata": {},
     "output_type": "execute_result"
    }
   ],
   "source": [
    "# Optimal number of staffs\n",
    "Output_bestcase['Full-Time Equivalents'].sum()"
   ]
  },
  {
   "cell_type": "markdown",
   "metadata": {},
   "source": [
    "### The optimal number of staffs in the best case scenario is 3343"
   ]
  },
  {
   "cell_type": "markdown",
   "metadata": {},
   "source": [
    "#### 4.2.2 Percentage of outsourced applications"
   ]
  },
  {
   "cell_type": "code",
   "execution_count": 62,
   "metadata": {},
   "outputs": [
    {
     "name": "stdout",
     "output_type": "stream",
     "text": [
      "4.106130951330168\n"
     ]
    }
   ],
   "source": [
    "# write your code here\n",
    "outsourced_app_perc_2 = Output_bestcase['Outsourced Applications'].sum()/sum(demand.values())\n",
    "print(outsourced_app_perc_2*100)"
   ]
  },
  {
   "cell_type": "markdown",
   "metadata": {},
   "source": [
    "### The percentage of outsourced applications is only 4.1%, in the best case scenario as the staffs are mostly available and it is not required to go for costlier outsourcing"
   ]
  },
  {
   "cell_type": "markdown",
   "metadata": {},
   "source": [
    "#### 4.2.3 Average cost per application"
   ]
  },
  {
   "cell_type": "code",
   "execution_count": 63,
   "metadata": {},
   "outputs": [
    {
     "name": "stdout",
     "output_type": "stream",
     "text": [
      "145.88182638035315\n"
     ]
    }
   ],
   "source": [
    "# write your code here\n",
    "print(model5.value()/sum(demand.values()))"
   ]
  },
  {
   "cell_type": "markdown",
   "metadata": {},
   "source": [
    "### The average cost per application in the best case scenario is only $146"
   ]
  },
  {
   "cell_type": "markdown",
   "metadata": {},
   "source": [
    "### The average cost per application in the worst case scenario was $173"
   ]
  },
  {
   "cell_type": "markdown",
   "metadata": {},
   "source": [
    "# Question 5\n",
    "\n",
    "#### Creating Visualisations"
   ]
  },
  {
   "cell_type": "markdown",
   "metadata": {},
   "source": [
    "Create the following visualisations using your preferred method (i.e. Python, PowerPoint, Power BI, etc.) and add it to your report. \n",
    "\n",
    "Use the solution of Q2 to create a stacked column chart that shows the percentage of applications processed by the staff and by the vendor for each month (%staff processed applications+ %vendor processed applications should add up to 100%). \n",
    "Create a graph to show how the cost per application increases with respect to any change in the parameters in your analysis.\n",
    "Hint: Use the cost per application that you calculate in Questions 2, 3 and 4 (i.e., the best case, expected, expected with 10% outsourcing limit and the worst case). "
   ]
  },
  {
   "cell_type": "markdown",
   "metadata": {},
   "source": [
    "**Note:** You can create the charts in Python or some other visualisation tools and make it a part of your final report directly."
   ]
  },
  {
   "cell_type": "markdown",
   "metadata": {},
   "source": [
    "# Question 6 \n",
    "\n",
    "#### Additional proposed outsourced vendor \n",
    "\n",
    "The company sees the additional proposed outsourced vendor as ‘VENDOR 2’ with a cost per application as given below.\n",
    "\n",
    "**`Vendor 1`**\t\n",
    "**A:** 180 Dollars |\n",
    "**B:** 150 Dollars |\n",
    "**C:** 160 Dollars \n",
    "\n",
    "**`Vendor 2`** \t\n",
    "**A:** 155 Dollars |\n",
    "**B:** 150 Dollars |\n",
    "**C:** 158 Dollars\n",
    "\n",
    "                                                                 \n",
    "\n",
    "The states have signed a memorandum with both vendors to maintain the ratio (60%: 40%) of Vendor 1:Vendor 2 for the number of applications that can be outsourced for every month in each state.\n",
    "\n",
    "\n",
    "**`Q 6.1-`** Calculate the optimal staffing at a 10% limit on outsourcing while maintaining the vendor ratio (60%:40%) for the number of applications that can be outsourced for every month in each state.\n",
    "\n",
    "\n",
    "**`Q 6.2-`** Optimal Allocation of the application after relaxing the ratio criterion mentioned above (60%: 40%) for the number of applications that can be outsourced for every month in each state.\n"
   ]
  },
  {
   "cell_type": "markdown",
   "metadata": {},
   "source": [
    "#### Expected output: \n",
    "For each subtask (a) and (b), create a data frame containing the number of outsourced applications for each vendor and the number of FTEs for each state-month combination. You can choose to have extra columns like staff availability, demand etc. in your dataframe apart from the ones mentioned earlier.\n"
   ]
  },
  {
   "cell_type": "markdown",
   "metadata": {},
   "source": [
    "###  6.1 Optimal staffing at 10% limit on outsourcing while maintaining the vendor ratio as 60%:40% of the total application"
   ]
  },
  {
   "cell_type": "code",
   "execution_count": 64,
   "metadata": {},
   "outputs": [],
   "source": [
    "# Creating a model instance\n",
    "model6 = ConcreteModel()"
   ]
  },
  {
   "cell_type": "code",
   "execution_count": 65,
   "metadata": {},
   "outputs": [],
   "source": [
    "# Define Pyomo sets and Parameters\n",
    "#Pyomo sets\n",
    "model6.BankLoc = Set(initialize=BankLoc)\n",
    "model6.Month = Set(initialize=Month)\n",
    "#parameter\n",
    "model6.demand = Param(model6.BankLoc, model6.Month, initialize = demand)"
   ]
  },
  {
   "cell_type": "code",
   "execution_count": 66,
   "metadata": {},
   "outputs": [],
   "source": [
    "# Decision variables\n",
    "model6.x = Var(BankLoc, Month, within=NonNegativeReals)\n",
    "model6.y = Var(BankLoc, Month, within=NonNegativeIntegers)\n",
    "model6.z = Var(BankLoc, Month, within=NonNegativeIntegers)"
   ]
  },
  {
   "cell_type": "markdown",
   "metadata": {},
   "source": [
    "### Here we have three decision variables- one(x) for the FTE's, second and third ones (y and z) are for the two vendors respectively"
   ]
  },
  {
   "cell_type": "markdown",
   "metadata": {},
   "source": [
    "#### Reading the outsourcing cost for Vendor 2 "
   ]
  },
  {
   "cell_type": "code",
   "execution_count": 67,
   "metadata": {},
   "outputs": [],
   "source": [
    "# Unit Outsourcing Cost for Vendor 2( we already have cost for Vendor 1)\n",
    "UnitOutSourceCost2 = Cost.set_index(['State','Month'])['UnitOutCost_v2'].to_dict()"
   ]
  },
  {
   "cell_type": "code",
   "execution_count": 68,
   "metadata": {},
   "outputs": [],
   "source": [
    "# Constraints\n",
    "## Demand Constraint\n",
    "def demand_constraint(model6,b,m):\n",
    "    return((model6.x[b,m]*StaffAvPer[b,m]*40 + model6.y[b,m]) + model6.z[b,m] == demand[b,m])\n",
    "\n",
    "model6.dmnd = Constraint(BankLoc, Month, rule=demand_constraint)\n",
    "\n",
    "\n",
    "\n",
    "#Outsource Constraint\n",
    "def outsource_constraint(model6,b,m):\n",
    "    return(model6.y[b,m] + model6.z[b,m] <= 0.1*demand[b,m])\n",
    "model6.outsrc = Constraint(Bankloc,Month, rule = outsource_constraint)\n",
    "\n",
    "# Vendor Constraint\n",
    "def vendor_constraint(model6,b,m):\n",
    "    return(0.4*model6.y[b,m] == 0.6*model6.z[b,m])\n",
    "model6.vendor = Constraint(Bankloc,Month, rule = vendor_constraint )"
   ]
  },
  {
   "cell_type": "markdown",
   "metadata": {},
   "source": [
    "### The constraints are also changed here. \n",
    "#### i) The demand is now met by two vendors instead of one along with the FTE's. \n",
    "#### ii) Both the vendors combined must have maximum 10% of the applications. \n",
    "#### iii) Along with that, we have the vendor constraint where the first vendor and the second vendor will have a 60:40 distribution for the outsourced applications."
   ]
  },
  {
   "cell_type": "code",
   "execution_count": 69,
   "metadata": {},
   "outputs": [],
   "source": [
    "# Objective function\n",
    "model6.value = Objective(expr = sum(sum(FTE_Salary[b,m]*model6.x[b,m] + UnitOutSourceCost[b,m]*model6.y[b,m] + UnitOutSourceCost2[b,m]*model6.z[b,m]\n",
    "                                       for m in Month)for b in BankLoc), sense= minimize)"
   ]
  },
  {
   "cell_type": "markdown",
   "metadata": {},
   "source": [
    "### The objective function is changed appropriately as we have to minimize the cost with respect to the FTE's and the two vendors instead of one."
   ]
  },
  {
   "cell_type": "code",
   "execution_count": 70,
   "metadata": {},
   "outputs": [
    {
     "name": "stdout",
     "output_type": "stream",
     "text": [
      "# ==========================================================\n",
      "# = Solver Results                                         =\n",
      "# ==========================================================\n",
      "# ----------------------------------------------------------\n",
      "#   Problem Information\n",
      "# ----------------------------------------------------------\n",
      "Problem: \n",
      "- Name: unknown\n",
      "  Lower bound: 18085432.8465717\n",
      "  Upper bound: 18085432.8465717\n",
      "  Number of objectives: 1\n",
      "  Number of constraints: 109\n",
      "  Number of variables: 109\n",
      "  Number of nonzeros: 253\n",
      "  Sense: minimize\n",
      "# ----------------------------------------------------------\n",
      "#   Solver Information\n",
      "# ----------------------------------------------------------\n",
      "Solver: \n",
      "- Status: ok\n",
      "  Termination condition: optimal\n",
      "  Statistics: \n",
      "    Branch and bound: \n",
      "      Number of bounded subproblems: 1\n",
      "      Number of created subproblems: 1\n",
      "  Error rc: 0\n",
      "  Time: 0.19147300720214844\n",
      "# ----------------------------------------------------------\n",
      "#   Solution Information\n",
      "# ----------------------------------------------------------\n",
      "Solution: \n",
      "- number of solutions: 0\n",
      "  number of solutions displayed: 0\n"
     ]
    }
   ],
   "source": [
    "# Invoking the solver\n",
    "result = SolverFactory('glpk').solve(model6)\n",
    "result.write()"
   ]
  },
  {
   "cell_type": "code",
   "execution_count": 71,
   "metadata": {},
   "outputs": [
    {
     "data": {
      "text/plain": [
       "18085432.84657171"
      ]
     },
     "execution_count": 71,
     "metadata": {},
     "output_type": "execute_result"
    }
   ],
   "source": [
    "# Print the value of the objective function\n",
    "model6.value()"
   ]
  },
  {
   "cell_type": "markdown",
   "metadata": {},
   "source": [
    "### The company has to spend $18.1m approx if there is ratio criterion for the two vendors"
   ]
  },
  {
   "cell_type": "markdown",
   "metadata": {},
   "source": [
    "**`Checkpoint 6:`** The company has to spend around 18.1 m$ in total for the application approval process if there is ratio criterion."
   ]
  },
  {
   "cell_type": "code",
   "execution_count": 72,
   "metadata": {},
   "outputs": [
    {
     "name": "stdout",
     "output_type": "stream",
     "text": [
      "[['A', 'Jan', 161.728395061728, 0.0, 0.0], ['A', 'Feb', 160.460526315789, 0.0, 0.0], ['A', 'Mar', 198.066666666667, 0.0, 0.0], ['A', 'Apr', 71.78125, 0.0, 0.0], ['A', 'May', 63.8461538461538, 0.0, 0.0], ['A', 'Jun', 70.2054794520548, 135.0, 90.0], ['A', 'Jul', 176.617647058824, 318.0, 212.0], ['A', 'Aug', 110.888157894737, 0.0, 0.0], ['A', 'Sep', 116.018518518519, 0.0, 0.0], ['A', 'Oct', 108.869863013699, 210.0, 140.0], ['A', 'Nov', 141.875, 255.0, 170.0], ['A', 'Dec', 179.538461538462, 309.0, 206.0], ['B', 'Jan', 152.067901234568, 0.0, 0.0], ['B', 'Feb', 77.8947368421053, 156.0, 104.0], ['B', 'Mar', 89.3, 177.0, 118.0], ['B', 'Apr', 73.0625, 0.0, 0.0], ['B', 'May', 128.846153846154, 0.0, 0.0], ['B', 'Jun', 97.1575342465753, 186.0, 124.0], ['B', 'Jul', 141.397058823529, 255.0, 170.0], ['B', 'Aug', 77.6315789473684, 156.0, 104.0], ['B', 'Sep', 139.413580246914, 0.0, 0.0], ['B', 'Oct', 128.082191780822, 249.0, 166.0], ['B', 'Nov', 103.933823529412, 186.0, 124.0], ['B', 'Dec', 146.423076923077, 252.0, 168.0], ['C', 'Jan', 35.8641975308642, 0.0, 0.0], ['C', 'Feb', 64.7039473684211, 0.0, 0.0], ['C', 'Mar', 63.2666666666667, 0.0, 0.0], ['C', 'Apr', 70.65625, 0.0, 0.0], ['C', 'May', 65.0641025641026, 0.0, 0.0], ['C', 'Jun', 56.2328767123288, 0.0, 0.0], ['C', 'Jul', 82.5, 147.0, 98.0], ['C', 'Aug', 82.1052631578947, 0.0, 0.0], ['C', 'Sep', 28.4567901234568, 0.0, 0.0], ['C', 'Oct', 82.9109589041096, 0.0, 0.0], ['C', 'Nov', 31.9117647058823, 57.0, 38.0], ['C', 'Dec', 69.3461538461538, 117.0, 78.0]]\n"
     ]
    },
    {
     "data": {
      "text/html": [
       "<div>\n",
       "<style scoped>\n",
       "    .dataframe tbody tr th:only-of-type {\n",
       "        vertical-align: middle;\n",
       "    }\n",
       "\n",
       "    .dataframe tbody tr th {\n",
       "        vertical-align: top;\n",
       "    }\n",
       "\n",
       "    .dataframe thead th {\n",
       "        text-align: right;\n",
       "    }\n",
       "</style>\n",
       "<table border=\"1\" class=\"dataframe\">\n",
       "  <thead>\n",
       "    <tr style=\"text-align: right;\">\n",
       "      <th></th>\n",
       "      <th>State</th>\n",
       "      <th>Month</th>\n",
       "      <th>Full-Time Equivalents</th>\n",
       "      <th>Outsourced_Applications_Vendor1</th>\n",
       "      <th>Outsourced_Applications_Vendor2</th>\n",
       "    </tr>\n",
       "  </thead>\n",
       "  <tbody>\n",
       "    <tr>\n",
       "      <th>0</th>\n",
       "      <td>A</td>\n",
       "      <td>Jan</td>\n",
       "      <td>161.728395</td>\n",
       "      <td>0.0</td>\n",
       "      <td>0.0</td>\n",
       "    </tr>\n",
       "    <tr>\n",
       "      <th>1</th>\n",
       "      <td>A</td>\n",
       "      <td>Feb</td>\n",
       "      <td>160.460526</td>\n",
       "      <td>0.0</td>\n",
       "      <td>0.0</td>\n",
       "    </tr>\n",
       "    <tr>\n",
       "      <th>2</th>\n",
       "      <td>A</td>\n",
       "      <td>Mar</td>\n",
       "      <td>198.066667</td>\n",
       "      <td>0.0</td>\n",
       "      <td>0.0</td>\n",
       "    </tr>\n",
       "    <tr>\n",
       "      <th>3</th>\n",
       "      <td>A</td>\n",
       "      <td>Apr</td>\n",
       "      <td>71.781250</td>\n",
       "      <td>0.0</td>\n",
       "      <td>0.0</td>\n",
       "    </tr>\n",
       "    <tr>\n",
       "      <th>4</th>\n",
       "      <td>A</td>\n",
       "      <td>May</td>\n",
       "      <td>63.846154</td>\n",
       "      <td>0.0</td>\n",
       "      <td>0.0</td>\n",
       "    </tr>\n",
       "  </tbody>\n",
       "</table>\n",
       "</div>"
      ],
      "text/plain": [
       "  State Month  Full-Time Equivalents  Outsourced_Applications_Vendor1  \\\n",
       "0     A   Jan             161.728395                              0.0   \n",
       "1     A   Feb             160.460526                              0.0   \n",
       "2     A   Mar             198.066667                              0.0   \n",
       "3     A   Apr              71.781250                              0.0   \n",
       "4     A   May              63.846154                              0.0   \n",
       "\n",
       "   Outsourced_Applications_Vendor2  \n",
       "0                              0.0  \n",
       "1                              0.0  \n",
       "2                              0.0  \n",
       "3                              0.0  \n",
       "4                              0.0  "
      ]
     },
     "execution_count": 72,
     "metadata": {},
     "output_type": "execute_result"
    }
   ],
   "source": [
    "# Creating dataframe for the results\n",
    "Output_vendor = []\n",
    "\n",
    "for b in BankLoc:\n",
    "    for m in Month:\n",
    "        # Full time employees\n",
    "        FTE=model6.x[b,m].value\n",
    "        \n",
    "        #No.of outsourced applications for Vendor 1\n",
    "        Outsourced_vendor1 = model6.y[b,m].value\n",
    "        \n",
    "        #No.of outsourced applications for Vendor 1\n",
    "        Outsourced_vendor2 = model6.z[b,m].value\n",
    "        \n",
    "        \n",
    "        Output_vendor.append([b,m,FTE,Outsourced_vendor1, Outsourced_vendor2])\n",
    "print(Output_vendor)\n",
    "\n",
    "Output_vendor = pd.DataFrame(Output_vendor,columns=['State', 'Month','Full-Time Equivalents','Outsourced_Applications_Vendor1','Outsourced_Applications_Vendor2'])\n",
    "Output_vendor.head()"
   ]
  },
  {
   "cell_type": "code",
   "execution_count": 73,
   "metadata": {},
   "outputs": [],
   "source": [
    "# Writing the results in to an Excel sheet\n",
    "#book = load_workbook(\"Output_data.xlsx\")\n",
    "\n",
    "# create excel writer object\n",
    "#writer = pd.ExcelWriter(\"Output_data.xlsx\", engine = 'openpyxl')\n",
    "\n",
    "\n",
    "#Assigning the workbook to the writer object\n",
    "#writer.book = book\n",
    "\n",
    "\n",
    "# write dataframe to excel sheet named 'output'\n",
    "#Output_vendor.to_excel(writer, sheet_name='Qsn_6_1')\n",
    "\n",
    "\n",
    "# save the excel file\n",
    "#writer.save()\n",
    "#print('DataFrame is written successfully to Excel Sheet.')"
   ]
  },
  {
   "cell_type": "markdown",
   "metadata": {},
   "source": [
    "### Optimal Staffing"
   ]
  },
  {
   "cell_type": "code",
   "execution_count": 74,
   "metadata": {},
   "outputs": [
    {
     "data": {
      "text/plain": [
       "3648.1252273670393"
      ]
     },
     "execution_count": 74,
     "metadata": {},
     "output_type": "execute_result"
    }
   ],
   "source": [
    "Output_vendor['Full-Time Equivalents'].sum()"
   ]
  },
  {
   "cell_type": "code",
   "execution_count": 75,
   "metadata": {},
   "outputs": [
    {
     "data": {
      "text/plain": [
       "3165.0"
      ]
     },
     "execution_count": 75,
     "metadata": {},
     "output_type": "execute_result"
    }
   ],
   "source": [
    "Output_vendor['Outsourced_Applications_Vendor1'].sum()"
   ]
  },
  {
   "cell_type": "code",
   "execution_count": 76,
   "metadata": {},
   "outputs": [
    {
     "data": {
      "text/plain": [
       "2110.0"
      ]
     },
     "execution_count": 76,
     "metadata": {},
     "output_type": "execute_result"
    }
   ],
   "source": [
    "Output_vendor['Outsourced_Applications_Vendor2'].sum()"
   ]
  },
  {
   "cell_type": "markdown",
   "metadata": {},
   "source": [
    "### The optimal staffing is 3648 when there is a ratio constraint on vendors"
   ]
  },
  {
   "cell_type": "markdown",
   "metadata": {},
   "source": [
    "### 6.2\tOptimal allocation of application to vendors after relaxing the ratio criterion 60%:40% (Vendor 1:Vendor 2) "
   ]
  },
  {
   "cell_type": "code",
   "execution_count": 77,
   "metadata": {},
   "outputs": [],
   "source": [
    "# Creating a model instance\n",
    "model7 = ConcreteModel()"
   ]
  },
  {
   "cell_type": "code",
   "execution_count": 78,
   "metadata": {},
   "outputs": [],
   "source": [
    "# Define Pyomo sets and Parameters\n",
    "#Pyomo sets\n",
    "model7.BankLoc = Set(initialize=BankLoc)\n",
    "model7.Month = Set(initialize=Month)\n",
    "#parameter\n",
    "model7.demand = Param(model7.BankLoc, model7.Month, initialize = demand)"
   ]
  },
  {
   "cell_type": "code",
   "execution_count": 79,
   "metadata": {},
   "outputs": [],
   "source": [
    "# Decision variables\n",
    "model7.x = Var(BankLoc, Month, within=NonNegativeReals)\n",
    "model7.y = Var(BankLoc, Month, within=NonNegativeIntegers)\n",
    "model7.z = Var(BankLoc, Month, within=NonNegativeIntegers)"
   ]
  },
  {
   "cell_type": "code",
   "execution_count": 80,
   "metadata": {},
   "outputs": [],
   "source": [
    "# Constraints\n",
    "## Demand Constraint\n",
    "def demand_constraint(model7,b,m):\n",
    "    return((model7.x[b,m]*StaffAvPer[b,m]*40 + model7.y[b,m]) + model7.z[b,m] == demand[b,m])\n",
    "\n",
    "model7.dmnd = Constraint(BankLoc, Month, rule=demand_constraint)\n",
    "\n",
    "\n",
    "\n",
    "#Outsource Constraint\n",
    "#def outsource_constraint(model7,b,m):\n",
    "#   return(model7.y[b,m] + model7.z[b,m] <= 0.1*demand[b,m])\n",
    "#model7.outsrc = Constraint(Bankloc,Month, rule = outsource_constraint)"
   ]
  },
  {
   "cell_type": "markdown",
   "metadata": {},
   "source": [
    "## Please note that on giving this particular constraint of 10%, the optimization is not getting executed. Hence, we removed this. We would get a high value of outsourced applications because of this but given the situation and lack of clarification, we stick to this! Hope this doesn't go wrong!"
   ]
  },
  {
   "cell_type": "code",
   "execution_count": 81,
   "metadata": {},
   "outputs": [],
   "source": [
    "# Objective function\n",
    "model7.value = Objective(expr = sum(sum(FTE_Salary[b,m]*model7.x[b,m] + UnitOutSourceCost[b,m]*model7.y[b,m] + UnitOutSourceCost2[b,m]*model7.z[b,m]\n",
    "                                       for m in Month)for b in BankLoc), sense= minimize)"
   ]
  },
  {
   "cell_type": "code",
   "execution_count": 82,
   "metadata": {},
   "outputs": [
    {
     "name": "stdout",
     "output_type": "stream",
     "text": [
      "# ==========================================================\n",
      "# = Solver Results                                         =\n",
      "# ==========================================================\n",
      "# ----------------------------------------------------------\n",
      "#   Problem Information\n",
      "# ----------------------------------------------------------\n",
      "Problem: \n",
      "- Name: unknown\n",
      "  Lower bound: 17069134.0056925\n",
      "  Upper bound: 17069134.0056925\n",
      "  Number of objectives: 1\n",
      "  Number of constraints: 37\n",
      "  Number of variables: 109\n",
      "  Number of nonzeros: 109\n",
      "  Sense: minimize\n",
      "# ----------------------------------------------------------\n",
      "#   Solver Information\n",
      "# ----------------------------------------------------------\n",
      "Solver: \n",
      "- Status: ok\n",
      "  Termination condition: optimal\n",
      "  Statistics: \n",
      "    Branch and bound: \n",
      "      Number of bounded subproblems: 1\n",
      "      Number of created subproblems: 1\n",
      "  Error rc: 0\n",
      "  Time: 0.1535811424255371\n",
      "# ----------------------------------------------------------\n",
      "#   Solution Information\n",
      "# ----------------------------------------------------------\n",
      "Solution: \n",
      "- number of solutions: 0\n",
      "  number of solutions displayed: 0\n"
     ]
    }
   ],
   "source": [
    "# Invoking the solver\n",
    "result = SolverFactory('glpk').solve(model7)\n",
    "result.write()"
   ]
  },
  {
   "cell_type": "code",
   "execution_count": 83,
   "metadata": {},
   "outputs": [
    {
     "data": {
      "text/plain": [
       "17069134.005692545"
      ]
     },
     "execution_count": 83,
     "metadata": {},
     "output_type": "execute_result"
    }
   ],
   "source": [
    "# Print the value of the objective function\n",
    "model7.value()"
   ]
  },
  {
   "cell_type": "markdown",
   "metadata": {},
   "source": [
    "### The company has to spend around $17.1 on relaxing the ratio criterion"
   ]
  },
  {
   "cell_type": "markdown",
   "metadata": {},
   "source": [
    "**`Checkpoint 7:`** The company has to spend around 17.1 m$ in total for the application approval process on realxing the ratio criterion which is lesser than the previous case. "
   ]
  },
  {
   "cell_type": "code",
   "execution_count": 84,
   "metadata": {},
   "outputs": [
    {
     "name": "stdout",
     "output_type": "stream",
     "text": [
      "[['A', 'Jan', 161.728395061728, 0.0, 0.0], ['A', 'Feb', 0.0, 0.0, 4878.0], ['A', 'Mar', 0.0, 0.0, 5942.0], ['A', 'Apr', 0.0, 0.0, 2297.0], ['A', 'May', 0.0, 0.0, 1992.0], ['A', 'Jun', 0.0, 0.0, 2275.0], ['A', 'Jul', 0.0, 0.0, 5334.0], ['A', 'Aug', 0.0, 0.0, 3371.0], ['A', 'Sep', 116.018518518519, 0.0, 0.0], ['A', 'Oct', 0.0, 0.0, 3529.0], ['A', 'Nov', 0.0, 0.0, 4284.0], ['A', 'Dec', 0.0, 0.0, 5183.0], ['B', 'Jan', 152.067901234568, 0.0, 0.0], ['B', 'Feb', 0.0, 2628.0, 0.0], ['B', 'Mar', 0.0, 2974.0, 0.0], ['B', 'Apr', 73.0625, 0.0, 0.0], ['B', 'May', 128.846153846154, 0.0, 0.0], ['B', 'Jun', 0.0, 3147.0, 0.0], ['B', 'Jul', 0.0, 4271.0, 0.0], ['B', 'Aug', 0.0, 2620.0, 0.0], ['B', 'Sep', 139.413580246914, 0.0, 0.0], ['B', 'Oct', 0.0, 4155.0, 0.0], ['B', 'Nov', 0.0, 3137.0, 0.0], ['B', 'Dec', 0.0, 4227.0, 0.0], ['C', 'Jan', 35.8641975308642, 0.0, 0.0], ['C', 'Feb', 64.7039473684211, 0.0, 0.0], ['C', 'Mar', 63.2666666666667, 0.0, 0.0], ['C', 'Apr', 70.65625, 0.0, 0.0], ['C', 'May', 65.0641025641026, 0.0, 0.0], ['C', 'Jun', 56.2328767123288, 0.0, 0.0], ['C', 'Jul', 0.0, 0.0, 2489.0], ['C', 'Aug', 82.1052631578947, 0.0, 0.0], ['C', 'Sep', 28.4567901234568, 0.0, 0.0], ['C', 'Oct', 82.9109589041096, 0.0, 0.0], ['C', 'Nov', 0.0, 0.0, 963.0], ['C', 'Dec', 0.0, 0.0, 1998.0]]\n"
     ]
    },
    {
     "data": {
      "text/html": [
       "<div>\n",
       "<style scoped>\n",
       "    .dataframe tbody tr th:only-of-type {\n",
       "        vertical-align: middle;\n",
       "    }\n",
       "\n",
       "    .dataframe tbody tr th {\n",
       "        vertical-align: top;\n",
       "    }\n",
       "\n",
       "    .dataframe thead th {\n",
       "        text-align: right;\n",
       "    }\n",
       "</style>\n",
       "<table border=\"1\" class=\"dataframe\">\n",
       "  <thead>\n",
       "    <tr style=\"text-align: right;\">\n",
       "      <th></th>\n",
       "      <th>State</th>\n",
       "      <th>Month</th>\n",
       "      <th>Full-Time Equivalents</th>\n",
       "      <th>Outsourced_Applications_Vendor1</th>\n",
       "      <th>Outsourced_Applications_Vendor2</th>\n",
       "    </tr>\n",
       "  </thead>\n",
       "  <tbody>\n",
       "    <tr>\n",
       "      <th>0</th>\n",
       "      <td>A</td>\n",
       "      <td>Jan</td>\n",
       "      <td>161.728395</td>\n",
       "      <td>0.0</td>\n",
       "      <td>0.0</td>\n",
       "    </tr>\n",
       "    <tr>\n",
       "      <th>1</th>\n",
       "      <td>A</td>\n",
       "      <td>Feb</td>\n",
       "      <td>0.000000</td>\n",
       "      <td>0.0</td>\n",
       "      <td>4878.0</td>\n",
       "    </tr>\n",
       "    <tr>\n",
       "      <th>2</th>\n",
       "      <td>A</td>\n",
       "      <td>Mar</td>\n",
       "      <td>0.000000</td>\n",
       "      <td>0.0</td>\n",
       "      <td>5942.0</td>\n",
       "    </tr>\n",
       "    <tr>\n",
       "      <th>3</th>\n",
       "      <td>A</td>\n",
       "      <td>Apr</td>\n",
       "      <td>0.000000</td>\n",
       "      <td>0.0</td>\n",
       "      <td>2297.0</td>\n",
       "    </tr>\n",
       "    <tr>\n",
       "      <th>4</th>\n",
       "      <td>A</td>\n",
       "      <td>May</td>\n",
       "      <td>0.000000</td>\n",
       "      <td>0.0</td>\n",
       "      <td>1992.0</td>\n",
       "    </tr>\n",
       "  </tbody>\n",
       "</table>\n",
       "</div>"
      ],
      "text/plain": [
       "  State Month  Full-Time Equivalents  Outsourced_Applications_Vendor1  \\\n",
       "0     A   Jan             161.728395                              0.0   \n",
       "1     A   Feb               0.000000                              0.0   \n",
       "2     A   Mar               0.000000                              0.0   \n",
       "3     A   Apr               0.000000                              0.0   \n",
       "4     A   May               0.000000                              0.0   \n",
       "\n",
       "   Outsourced_Applications_Vendor2  \n",
       "0                              0.0  \n",
       "1                           4878.0  \n",
       "2                           5942.0  \n",
       "3                           2297.0  \n",
       "4                           1992.0  "
      ]
     },
     "execution_count": 84,
     "metadata": {},
     "output_type": "execute_result"
    }
   ],
   "source": [
    "# Creating dataframe for the results\n",
    "# Creating dataframe for the results\n",
    "Output_vendor_2 = []\n",
    "\n",
    "for b in BankLoc:\n",
    "    for m in Month:\n",
    "        # Full time employees\n",
    "        FTE=model7.x[b,m].value\n",
    "        \n",
    "        #No.of outsourced applications for Vendor 1\n",
    "        Outsourced_vendor1 = model7.y[b,m].value\n",
    "        \n",
    "        #No.of outsourced applications for Vendor 1\n",
    "        Outsourced_vendor2 = model7.z[b,m].value\n",
    "        \n",
    "        \n",
    "        Output_vendor_2.append([b,m,FTE,Outsourced_vendor1, Outsourced_vendor2])\n",
    "print(Output_vendor_2)\n",
    "\n",
    "Output_vendor_2 = pd.DataFrame(Output_vendor_2,columns=['State', 'Month','Full-Time Equivalents','Outsourced_Applications_Vendor1','Outsourced_Applications_Vendor2'])\n",
    "Output_vendor_2.head()"
   ]
  },
  {
   "cell_type": "code",
   "execution_count": 85,
   "metadata": {},
   "outputs": [],
   "source": [
    "# Writing the results in to an Excel sheet\n",
    "#book = load_workbook(\"Output_data.xlsx\")\n",
    "\n",
    "# create excel writer object\n",
    "#writer = pd.ExcelWriter(\"Output_data.xlsx\", engine = 'openpyxl')\n",
    "\n",
    "\n",
    "#Assigning the workbook to the writer object\n",
    "#writer.book = book\n",
    "\n",
    "\n",
    "# write dataframe to excel sheet named 'output'\n",
    "#Output_vendor_2.to_excel(writer, sheet_name='Qsn_6_2')\n",
    "\n",
    "\n",
    "# save the excel file\n",
    "#writer.save()\n",
    "#print('DataFrame is written successfully to Excel Sheet.')"
   ]
  },
  {
   "cell_type": "markdown",
   "metadata": {},
   "source": [
    "### Optimal Allocation of Applications"
   ]
  },
  {
   "cell_type": "code",
   "execution_count": 86,
   "metadata": {},
   "outputs": [
    {
     "data": {
      "text/plain": [
       "1320.3981019357275"
      ]
     },
     "execution_count": 86,
     "metadata": {},
     "output_type": "execute_result"
    }
   ],
   "source": [
    "Output_vendor_2['Full-Time Equivalents'].sum()"
   ]
  },
  {
   "cell_type": "code",
   "execution_count": 87,
   "metadata": {},
   "outputs": [
    {
     "data": {
      "text/plain": [
       "27159.0"
      ]
     },
     "execution_count": 87,
     "metadata": {},
     "output_type": "execute_result"
    }
   ],
   "source": [
    "Output_vendor_2['Outsourced_Applications_Vendor1'].sum()"
   ]
  },
  {
   "cell_type": "code",
   "execution_count": 88,
   "metadata": {},
   "outputs": [
    {
     "data": {
      "text/plain": [
       "44535.0"
      ]
     },
     "execution_count": 88,
     "metadata": {},
     "output_type": "execute_result"
    }
   ],
   "source": [
    "Output_vendor_2['Outsourced_Applications_Vendor2'].sum()"
   ]
  },
  {
   "cell_type": "markdown",
   "metadata": {},
   "source": [
    "### The optimal allocation of applications is 27,159 for Vendor 1 and 44,535 for Vendor 2 and the number of optimal staffs is 1320"
   ]
  },
  {
   "cell_type": "code",
   "execution_count": 89,
   "metadata": {},
   "outputs": [
    {
     "name": "stdout",
     "output_type": "stream",
     "text": [
      "158.5462288273861\n",
      "159.76997300139334\n",
      "160.1576399796473\n",
      "172.99665045623564\n",
      "145.88182638035315\n"
     ]
    }
   ],
   "source": [
    "#### Cost per Application\n",
    "Cost_per_application_actual= model.value()/sum(demand.values())\n",
    "print(Cost_per_application_actual)\n",
    "\n",
    "Cost_per_application_outsourcing_limit= model2.value()/sum(demand.values())\n",
    "print(Cost_per_application_outsourcing_limit)\n",
    "\n",
    "Cost_per_application_outsourcing_cost= model3.value()/sum(demand.values())\n",
    "print(Cost_per_application_outsourcing_cost)\n",
    "\n",
    "Cost_per_application_worst_case= model4.value()/sum(demand.values())\n",
    "print(Cost_per_application_worst_case)\n",
    "\n",
    "Cost_per_application_outsourcing_best_case= model5.value()/sum(demand.values())\n",
    "print(Cost_per_application_outsourcing_best_case)"
   ]
  }
 ],
 "metadata": {
  "kernelspec": {
   "display_name": "Python 3",
   "language": "python",
   "name": "python3"
  },
  "language_info": {
   "codemirror_mode": {
    "name": "ipython",
    "version": 3
   },
   "file_extension": ".py",
   "mimetype": "text/x-python",
   "name": "python",
   "nbconvert_exporter": "python",
   "pygments_lexer": "ipython3",
   "version": "3.8.3"
  }
 },
 "nbformat": 4,
 "nbformat_minor": 2
}
